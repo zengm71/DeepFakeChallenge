{
 "cells": [
  {
   "cell_type": "markdown",
   "metadata": {},
   "source": [
    "# Load the model"
   ]
  },
  {
   "cell_type": "code",
   "execution_count": 1,
   "metadata": {},
   "outputs": [
    {
     "name": "stdout",
     "output_type": "stream",
     "text": [
      "Running on device: cuda:0\n"
     ]
    }
   ],
   "source": [
    "import os\n",
    "import torch\n",
    "from torch.utils.data import TensorDataset, DataLoader\n",
    "import glob\n",
    "import time\n",
    "import timm\n",
    "import numpy as np\n",
    "import pandas as pd\n",
    "import mmcv, cv2\n",
    "from facenet_pytorch import MTCNN, InceptionResnetV1, extract_face\n",
    "from PIL import Image, ImageDraw, ImageFont, ImageEnhance\n",
    "from IPython import display\n",
    "from tqdm import tqdm\n",
    "import seaborn\n",
    "from matplotlib import pyplot as plt\n",
    "\n",
    "Image.__version__\n",
    "\n",
    "device = torch.device('cuda:0' if torch.cuda.is_available() else 'cpu')\n",
    "cpu = torch.device('cpu')\n",
    "print('Running on device: {}'.format(device))"
   ]
  },
  {
   "cell_type": "code",
   "execution_count": 2,
   "metadata": {},
   "outputs": [],
   "source": [
    "import torch.nn as nn\n",
    "\n",
    "class Identity(nn.Module):\n",
    "    def __init__(self):\n",
    "        super(Identity, self).__init__()\n",
    "        \n",
    "    def forward(self, x):\n",
    "        return x\n",
    "\n",
    "\n",
    "class DFDCNet(nn.Module):\n",
    "    def __init__(self, input_size, output_size, hidden_dim, n_layers, drop_prob=0.5):\n",
    "        super(DFDCNet, self).__init__()\n",
    "        self.output_size = output_size\n",
    "        self.n_layers = n_layers\n",
    "        self.hidden_dim = hidden_dim\n",
    "        \n",
    "        self.mixnet = timm.create_model(\"mixnet_s\", pretrained=True)\n",
    "        self.mixnet.classifier = Identity()\n",
    "#         l = 0\n",
    "#         for param in self.mixnet.parameters():\n",
    "#             l = l + 1\n",
    "#             if l > 200:\n",
    "#                 param.requires_grad = True\n",
    "                \n",
    "        self.lstm = nn.LSTM(1536, hidden_dim, n_layers, dropout=drop_prob, batch_first=True)\n",
    "        self.dropout = nn.Dropout(0.5)\n",
    "        self.batchnorm = nn.BatchNorm1d(hidden_dim)\n",
    "        self.elu = nn.ELU()\n",
    "        self.fc1 = nn.Linear(hidden_dim, 32)\n",
    "#         self.fc2 = nn.Linear(64, 32)\n",
    "#         self.fc3 = nn.Linear(32, 16)\n",
    "        self.fc4 = nn.Linear(32, output_size)\n",
    "        self.sigmoid = nn.Sigmoid()\n",
    "        \n",
    "    def forward(self, x, hidden):\n",
    "        batch_size, seqlen, c, h, w = x.size()\n",
    "        x = x.reshape(batch_size*seqlen, c, h, w).float()\n",
    "        x = self.mixnet(x)\n",
    "        x = x.reshape(batch_size, seqlen, x.shape[1])\n",
    "        lstm_out, hidden = self.lstm(x, hidden)\n",
    "        lstm_out = lstm_out.contiguous().view(-1, self.hidden_dim)\n",
    "        \n",
    "        out = self.dropout(lstm_out)\n",
    "#         out = self.batchnorm(out)\n",
    "        out = self.fc1(out)\n",
    "        out = self.elu(out)\n",
    "#         out = self.fc2(out)\n",
    "#         out = self.elu(out)\n",
    "#         out = self.fc3(out)\n",
    "#         out = self.elu(out)\n",
    "        out = self.fc4(out)\n",
    "        out = self.sigmoid(out)\n",
    "        \n",
    "        out = out.view(batch_size, -1)\n",
    "        out = out[:,-1]\n",
    "        return out, hidden\n",
    "    \n",
    "    def init_hidden(self, batch_size):\n",
    "        weight = next(self.parameters()).data\n",
    "        hidden = (weight.new(self.n_layers, batch_size, self.hidden_dim).zero_().to(device),\n",
    "                      weight.new(self.n_layers, batch_size, self.hidden_dim).zero_().to(device))\n",
    "        return hidden"
   ]
  },
  {
   "cell_type": "code",
   "execution_count": 3,
   "metadata": {},
   "outputs": [
    {
     "data": {
      "text/plain": [
       "<All keys matched successfully>"
      ]
     },
     "execution_count": 3,
     "metadata": {},
     "output_type": "execute_result"
    }
   ],
   "source": [
    "input_size = 512\n",
    "output_size = 1\n",
    "hidden_dim = 512\n",
    "n_layers = 2\n",
    "\n",
    "model = DFDCNet(input_size, output_size, hidden_dim, n_layers)\n",
    "model.to(device)\n",
    "model.load_state_dict(torch.load('model_1face_unfroze.pt'))"
   ]
  },
  {
   "cell_type": "code",
   "execution_count": 4,
   "metadata": {},
   "outputs": [],
   "source": [
    "from sklearn.metrics import roc_curve, auc, accuracy_score, confusion_matrix, log_loss\n",
    "import seaborn as sns\n",
    "\n",
    "def Find_Optimal_Cutoff(target, predicted):\n",
    "    \"\"\" Find the optimal probability cutoff point for a classification model related to event rate\n",
    "    Parameters\n",
    "    ----------\n",
    "    target : Matrix with dependent or target data, where rows are observations\n",
    "\n",
    "    predicted : Matrix with predicted data, where rows are observations\n",
    "\n",
    "    Returns\n",
    "    -------     \n",
    "    list type, with optimal cutoff value\n",
    "\n",
    "    \"\"\"\n",
    "    fpr, tpr, threshold = roc_curve(target, predicted)\n",
    "    i = np.arange(len(tpr)) \n",
    "    roc = pd.DataFrame({'tf' : pd.Series(tpr-(1-fpr), index=i), 'threshold' : pd.Series(threshold, index=i)})\n",
    "    roc_t = roc.iloc[(roc.tf-0).abs().argsort()[:1]]\n",
    "\n",
    "    return list(roc_t['threshold']) \n",
    "\n",
    "def plot_matrix(target, predicted_binary, name):\n",
    "    matrix = confusion_matrix(target, predicted_binary)\n",
    "    TN, FP, FN, TP = matrix.ravel()\n",
    "    if (TP + FP > 0) and (TP + FN > 0):\n",
    "        precision = TP / (TP + FP)\n",
    "        recall = TP / (TP + FN)\n",
    "        F =  2 * (precision*recall) / (precision + recall)\n",
    "    else:\n",
    "        F = 0\n",
    "    cm_df = pd.DataFrame(matrix,\n",
    "                         index = ['Nagative', 'Positive'], \n",
    "                         columns = ['Nagative', 'Positive'])\n",
    "    subtitle = 'Precision ' + str(round(precision, 2)) + ' Recall ' + str(round(recall, 2))\n",
    "    fig, ax = plt.subplots(figsize=(8,6))\n",
    "    ax = sns.heatmap(cm_df, annot=True, fmt=\"d\")\n",
    "    bottom, top = ax.get_ylim()\n",
    "    ax.set_ylim(bottom + 0.5, top - 0.5)\n",
    "    plt.title('Confusion Matrix - ' + name + \"\\n\" + subtitle)\n",
    "    plt.ylabel('True label')\n",
    "    plt.xlabel('Predicted label')\n",
    "    plt.show()"
   ]
  },
  {
   "cell_type": "code",
   "execution_count": 5,
   "metadata": {},
   "outputs": [
    {
     "name": "stderr",
     "output_type": "stream",
     "text": [
      "100%|██████████| 50/50 [04:03<00:00,  1.29it/s]\n"
     ]
    }
   ],
   "source": [
    "for p in tqdm(np.arange(0, 50), total = 50):\n",
    "    if p == 0:\n",
    "        metadata = torch.load('data_images/000metadata_part_' + str(p) + '.pt', map_location = cpu)\n",
    "    else:\n",
    "        metadata_p = torch.load('data_images/000metadata_part_' + str(p) + '.pt', map_location = cpu)\n",
    "        metadata = pd.concat([metadata, metadata_p])"
   ]
  },
  {
   "cell_type": "code",
   "execution_count": 6,
   "metadata": {},
   "outputs": [
    {
     "data": {
      "text/plain": [
       "1    104891\n",
       "2      8879\n",
       "0      5076\n",
       "3       308\n",
       "Name: n_face, dtype: int64"
      ]
     },
     "execution_count": 6,
     "metadata": {},
     "output_type": "execute_result"
    }
   ],
   "source": [
    "metadata.n_face.value_counts()"
   ]
  },
  {
   "cell_type": "markdown",
   "metadata": {},
   "source": [
    "# 1 Face"
   ]
  },
  {
   "cell_type": "code",
   "execution_count": 17,
   "metadata": {},
   "outputs": [],
   "source": [
    "X = np.array(metadata.index[metadata.n_face == 1])\n",
    "Y = np.array(1 * (metadata.label[metadata.n_face == 1] == 'REAL'))"
   ]
  },
  {
   "cell_type": "code",
   "execution_count": 18,
   "metadata": {},
   "outputs": [
    {
     "name": "stdout",
     "output_type": "stream",
     "text": [
      "104891\n",
      "104891\n"
     ]
    }
   ],
   "source": [
    "print(len(X))\n",
    "\n",
    "print(len(Y))"
   ]
  },
  {
   "cell_type": "code",
   "execution_count": 19,
   "metadata": {},
   "outputs": [],
   "source": [
    "from torch.utils import data\n",
    "class Dataset(data.Dataset):\n",
    "    'Characterizes a dataset for PyTorch'\n",
    "    def __init__(self, list_IDs, labels):\n",
    "        'Initialization'\n",
    "        self.labels = labels\n",
    "        self.list_IDs = list_IDs\n",
    "\n",
    "    def __len__(self):\n",
    "        'Denotes the total number of samples'\n",
    "        return len(self.list_IDs)\n",
    "\n",
    "    def __getitem__(self, index):\n",
    "        'Generates one sample of data'\n",
    "        # Select sample\n",
    "        ID = self.list_IDs[index]\n",
    "        # Load data and get label\n",
    "        X = torch.load('data_images/1face_X_'+ ID + '.pt', map_location = cpu)\n",
    "        y = self.labels[index]\n",
    "\n",
    "        return X[[0,2,4,6,8]], y"
   ]
  },
  {
   "cell_type": "code",
   "execution_count": 27,
   "metadata": {},
   "outputs": [],
   "source": [
    "! rm log_evaluation.log"
   ]
  },
  {
   "cell_type": "code",
   "execution_count": 28,
   "metadata": {},
   "outputs": [],
   "source": [
    "import logging\n",
    "from datetime import datetime\n",
    "batch = 25\n",
    "logging.basicConfig(filename = 'log_evaluation.log',level = logging.INFO)\n",
    "counter = 0\n",
    "params = {'batch_size': batch, 'shuffle': False, 'num_workers': batch}\n",
    "predict = []\n",
    "test_set = Dataset(X, Y)\n",
    "test_generator = data.DataLoader(test_set, **params)\n",
    "torch.cuda.empty_cache() \n"
   ]
  },
  {
   "cell_type": "code",
   "execution_count": 29,
   "metadata": {},
   "outputs": [
    {
     "name": "stderr",
     "output_type": "stream",
     "text": [
      "100%|██████████| 4196/4196 [2:18:47<00:00,  5.72it/s]  \n"
     ]
    }
   ],
   "source": [
    "for inputs, label in tqdm(test_generator):\n",
    "    test_h = model.init_hidden(len(label))\n",
    "    test_h = tuple([each.data for each in test_h])\n",
    "    inputs = inputs.to(device)\n",
    "    out, test_h = model(inputs, test_h)\n",
    "    y = out.squeeze().cpu().data.numpy()\n",
    "    predict.append(y)\n",
    "    torch.cuda.empty_cache() \n",
    "    counter += 1\n",
    "    \n",
    "    if counter % 100 == 0:\n",
    "        logging.info(str(counter) + datetime.now().strftime(\"%H:%M:%S\")) "
   ]
  },
  {
   "cell_type": "code",
   "execution_count": 30,
   "metadata": {},
   "outputs": [
    {
     "data": {
      "text/plain": [
       "4196"
      ]
     },
     "execution_count": 30,
     "metadata": {},
     "output_type": "execute_result"
    }
   ],
   "source": [
    "len(predict)"
   ]
  },
  {
   "cell_type": "code",
   "execution_count": 31,
   "metadata": {},
   "outputs": [],
   "source": [
    "pred = np.concatenate(predict)"
   ]
  },
  {
   "cell_type": "code",
   "execution_count": 34,
   "metadata": {},
   "outputs": [
    {
     "data": {
      "text/plain": [
       "104891"
      ]
     },
     "execution_count": 34,
     "metadata": {},
     "output_type": "execute_result"
    }
   ],
   "source": [
    "len(pred)"
   ]
  },
  {
   "cell_type": "code",
   "execution_count": 35,
   "metadata": {},
   "outputs": [
    {
     "name": "stdout",
     "output_type": "stream",
     "text": [
      "the optimal threshold is 0.010755735449492931\n"
     ]
    }
   ],
   "source": [
    "threshold = Find_Optimal_Cutoff(Y, pred)\n",
    "print(\"the optimal threshold is \" + str(threshold[0]))\n",
    "predict_b = [1 if p > threshold[0] else 0 for p in pred]"
   ]
  },
  {
   "cell_type": "code",
   "execution_count": 36,
   "metadata": {},
   "outputs": [
    {
     "data": {
      "text/plain": [
       "0.253004628008593"
      ]
     },
     "execution_count": 36,
     "metadata": {},
     "output_type": "execute_result"
    }
   ],
   "source": [
    "log_loss(Y, pred)"
   ]
  },
  {
   "cell_type": "code",
   "execution_count": 37,
   "metadata": {},
   "outputs": [],
   "source": [
    "matrix = confusion_matrix(Y, predict_b)"
   ]
  },
  {
   "cell_type": "code",
   "execution_count": 45,
   "metadata": {},
   "outputs": [
    {
     "data": {
      "text/plain": [
       "array([[77748,  9796],\n",
       "       [ 1941, 15406]])"
      ]
     },
     "execution_count": 45,
     "metadata": {},
     "output_type": "execute_result"
    }
   ],
   "source": [
    "matrix"
   ]
  },
  {
   "cell_type": "code",
   "execution_count": 46,
   "metadata": {},
   "outputs": [
    {
     "data": {
      "text/plain": [
       "array([77748,  9796,  1941, 15406])"
      ]
     },
     "execution_count": 46,
     "metadata": {},
     "output_type": "execute_result"
    }
   ],
   "source": [
    "matrix.ravel()"
   ]
  },
  {
   "cell_type": "code",
   "execution_count": 50,
   "metadata": {
    "scrolled": false
   },
   "outputs": [
    {
     "data": {
      "image/png": "[encoded data removed]",
      "text/plain": [
       "<Figure size 576x432 with 2 Axes>"
      ]
     },
     "metadata": {
      "needs_background": "light"
     },
     "output_type": "display_data"
    }
   ],
   "source": [
    "plot_matrix(Y, predict_b, name = '1 Face')"
   ]
  },
  {
   "cell_type": "markdown",
   "metadata": {},
   "source": [
    "# 2 Face"
   ]
  },
  {
   "cell_type": "code",
   "execution_count": 7,
   "metadata": {},
   "outputs": [],
   "source": [
    "X = np.array(metadata.index[metadata.n_face == 2])\n",
    "Y = np.array(1 * (metadata.label[metadata.n_face == 2] == 'REAL'))"
   ]
  },
  {
   "cell_type": "code",
   "execution_count": 8,
   "metadata": {},
   "outputs": [
    {
     "name": "stdout",
     "output_type": "stream",
     "text": [
      "8879\n",
      "8879\n"
     ]
    }
   ],
   "source": [
    "print(len(X))\n",
    "\n",
    "print(len(Y))"
   ]
  },
  {
   "cell_type": "code",
   "execution_count": 9,
   "metadata": {},
   "outputs": [
    {
     "name": "stdout",
     "output_type": "stream",
     "text": [
      "rm: cannot remove 'log_evaluation.log': No such file or directory\r\n"
     ]
    }
   ],
   "source": [
    "! rm log_evaluation.log"
   ]
  },
  {
   "cell_type": "code",
   "execution_count": 10,
   "metadata": {},
   "outputs": [],
   "source": [
    "from torch.utils import data\n",
    "class Dataset(data.Dataset):\n",
    "    'Characterizes a dataset for PyTorch'\n",
    "    def __init__(self, list_IDs, labels):\n",
    "        'Initialization'\n",
    "        self.labels = labels\n",
    "        self.list_IDs = list_IDs\n",
    "\n",
    "    def __len__(self):\n",
    "        'Denotes the total number of samples'\n",
    "        return len(self.list_IDs)\n",
    "\n",
    "    def __getitem__(self, index):\n",
    "        'Generates one sample of data'\n",
    "        # Select sample\n",
    "        ID = self.list_IDs[index]\n",
    "        # Load data and get label\n",
    "        X = torch.load('data_images/2face_X_'+ ID + '.pt', map_location = cpu)\n",
    "        y = self.labels[index]\n",
    "\n",
    "        return X[[0,1, 4,5, 8,9, 12,13, 16,17]], y"
   ]
  },
  {
   "cell_type": "code",
   "execution_count": 11,
   "metadata": {},
   "outputs": [],
   "source": [
    "import logging\n",
    "from datetime import datetime\n",
    "batch = 10\n",
    "logging.basicConfig(filename = 'log_evaluation.log',level = logging.INFO)\n",
    "counter = 0\n",
    "params = {'batch_size': batch, 'shuffle': False, 'num_workers': batch}\n",
    "predict = []\n",
    "test_set = Dataset(X, Y)\n",
    "test_generator = data.DataLoader(test_set, **params)\n",
    "torch.cuda.empty_cache() \n"
   ]
  },
  {
   "cell_type": "code",
   "execution_count": 17,
   "metadata": {},
   "outputs": [
    {
     "name": "stderr",
     "output_type": "stream",
     "text": [
      "100%|██████████| 888/888 [15:50<00:00,  4.45it/s]  \n"
     ]
    }
   ],
   "source": [
    "for inputs, label in tqdm(test_generator):\n",
    "    test_h = model.init_hidden(len(label))\n",
    "    test_h = tuple([each.data for each in test_h])\n",
    "    inputs = inputs.to(device)\n",
    "    input1 = inputs[:,[0,2,4,6,8], :, :, :]\n",
    "    out, test_h = model(input1, test_h)\n",
    "    y1 = out.squeeze().cpu().data.numpy()\n",
    "    \n",
    "    input2 = inputs[:,[1,3,5,7,9], :, :, :]\n",
    "    out, test_h = model(input1, test_h)\n",
    "    y2 = out.squeeze().cpu().data.numpy()\n",
    "    \n",
    "    predict.append(np.maximum(y1, y2))\n",
    "    torch.cuda.empty_cache() \n",
    "    counter += 1\n",
    "    \n",
    "    if counter % 100 == 0:\n",
    "        logging.info(str(counter) + datetime.now().strftime(\"%H:%M:%S\")) "
   ]
  },
  {
   "cell_type": "code",
   "execution_count": 18,
   "metadata": {},
   "outputs": [
    {
     "data": {
      "text/plain": [
       "888"
      ]
     },
     "execution_count": 18,
     "metadata": {},
     "output_type": "execute_result"
    }
   ],
   "source": [
    "len(predict)"
   ]
  },
  {
   "cell_type": "code",
   "execution_count": 19,
   "metadata": {},
   "outputs": [],
   "source": [
    "pred = np.concatenate(predict)"
   ]
  },
  {
   "cell_type": "code",
   "execution_count": 20,
   "metadata": {},
   "outputs": [
    {
     "data": {
      "text/plain": [
       "8879"
      ]
     },
     "execution_count": 20,
     "metadata": {},
     "output_type": "execute_result"
    }
   ],
   "source": [
    "len(pred)"
   ]
  },
  {
   "cell_type": "code",
   "execution_count": 21,
   "metadata": {},
   "outputs": [
    {
     "name": "stdout",
     "output_type": "stream",
     "text": [
      "the optimal threshold is 0.003690990386530757\n"
     ]
    }
   ],
   "source": [
    "threshold = Find_Optimal_Cutoff(Y, pred)\n",
    "print(\"the optimal threshold is \" + str(threshold[0]))\n",
    "predict_b = [1 if p > threshold[0] else 0 for p in pred]"
   ]
  },
  {
   "cell_type": "code",
   "execution_count": 22,
   "metadata": {},
   "outputs": [
    {
     "data": {
      "text/plain": [
       "0.6376042047006321"
      ]
     },
     "execution_count": 22,
     "metadata": {},
     "output_type": "execute_result"
    }
   ],
   "source": [
    "log_loss(Y, pred)"
   ]
  },
  {
   "cell_type": "code",
   "execution_count": 23,
   "metadata": {},
   "outputs": [],
   "source": [
    "matrix = confusion_matrix(Y, predict_b)"
   ]
  },
  {
   "cell_type": "code",
   "execution_count": 24,
   "metadata": {},
   "outputs": [
    {
     "data": {
      "text/plain": [
       "array([[5013, 2587],\n",
       "       [ 436,  843]])"
      ]
     },
     "execution_count": 24,
     "metadata": {},
     "output_type": "execute_result"
    }
   ],
   "source": [
    "matrix"
   ]
  },
  {
   "cell_type": "code",
   "execution_count": 25,
   "metadata": {},
   "outputs": [
    {
     "data": {
      "text/plain": [
       "array([5013, 2587,  436,  843])"
      ]
     },
     "execution_count": 25,
     "metadata": {},
     "output_type": "execute_result"
    }
   ],
   "source": [
    "matrix.ravel()"
   ]
  },
  {
   "cell_type": "code",
   "execution_count": 26,
   "metadata": {
    "scrolled": false
   },
   "outputs": [
    {
     "data": {
      "image/png": "[encoded data removed]",
      "text/plain": [
       "<Figure size 576x432 with 2 Axes>"
      ]
     },
     "metadata": {
      "needs_background": "light"
     },
     "output_type": "display_data"
    }
   ],
   "source": [
    "plot_matrix(Y, predict_b, name = '1 Face')"
   ]
  },
  {
   "cell_type": "markdown",
   "metadata": {},
   "source": [
    "# 3 Face"
   ]
  },
  {
   "cell_type": "code",
   "execution_count": 27,
   "metadata": {},
   "outputs": [],
   "source": [
    "X = np.array(metadata.index[metadata.n_face == 3])\n",
    "Y = np.array(1 * (metadata.label[metadata.n_face == 3] == 'REAL'))"
   ]
  },
  {
   "cell_type": "code",
   "execution_count": 28,
   "metadata": {},
   "outputs": [
    {
     "name": "stdout",
     "output_type": "stream",
     "text": [
      "308\n",
      "308\n"
     ]
    }
   ],
   "source": [
    "print(len(X))\n",
    "\n",
    "print(len(Y))"
   ]
  },
  {
   "cell_type": "code",
   "execution_count": 29,
   "metadata": {},
   "outputs": [],
   "source": [
    "! rm log_evaluation.log"
   ]
  },
  {
   "cell_type": "code",
   "execution_count": 33,
   "metadata": {},
   "outputs": [],
   "source": [
    "from torch.utils import data\n",
    "class Dataset(data.Dataset):\n",
    "    'Characterizes a dataset for PyTorch'\n",
    "    def __init__(self, list_IDs, labels):\n",
    "        'Initialization'\n",
    "        self.labels = labels\n",
    "        self.list_IDs = list_IDs\n",
    "\n",
    "    def __len__(self):\n",
    "        'Denotes the total number of samples'\n",
    "        return len(self.list_IDs)\n",
    "\n",
    "    def __getitem__(self, index):\n",
    "        'Generates one sample of data'\n",
    "        # Select sample\n",
    "        ID = self.list_IDs[index]\n",
    "        # Load data and get label\n",
    "        X = torch.load('data_images/3face_X_'+ ID + '.pt', map_location = cpu)\n",
    "        y = self.labels[index]\n",
    "\n",
    "        return X[[0,1,2, 6,7,8, 12,13,14, 18,19,20, 24,25,26]], y"
   ]
  },
  {
   "cell_type": "code",
   "execution_count": 34,
   "metadata": {},
   "outputs": [],
   "source": [
    "import logging\n",
    "from datetime import datetime\n",
    "batch = 10\n",
    "logging.basicConfig(filename = 'log_evaluation.log',level = logging.INFO)\n",
    "counter = 0\n",
    "params = {'batch_size': batch, 'shuffle': False, 'num_workers': batch}\n",
    "predict = []\n",
    "test_set = Dataset(X, Y)\n",
    "test_generator = data.DataLoader(test_set, **params)\n",
    "torch.cuda.empty_cache() \n"
   ]
  },
  {
   "cell_type": "code",
   "execution_count": 35,
   "metadata": {
    "collapsed": true
   },
   "outputs": [
    {
     "name": "stderr",
     "output_type": "stream",
     "text": [
      "\n",
      "  0%|          | 0/31 [00:00<?, ?it/s]\u001b[A\n",
      "  3%|▎         | 1/31 [00:06<03:06,  6.22s/it]\u001b[A\n",
      "  6%|▋         | 2/31 [00:06<02:08,  4.43s/it]\u001b[A\n",
      " 10%|▉         | 3/31 [00:06<01:29,  3.20s/it]\u001b[A\n",
      " 13%|█▎        | 4/31 [00:07<01:02,  2.31s/it]\u001b[A\n",
      " 16%|█▌        | 5/31 [00:07<00:45,  1.74s/it]\u001b[A\n",
      " 19%|█▉        | 6/31 [00:07<00:33,  1.36s/it]\u001b[A\n",
      " 23%|██▎       | 7/31 [00:08<00:25,  1.06s/it]\u001b[A\n",
      " 26%|██▌       | 8/31 [00:08<00:18,  1.22it/s]\u001b[A\n",
      " 29%|██▉       | 9/31 [00:08<00:14,  1.50it/s]\u001b[A\n",
      " 32%|███▏      | 10/31 [00:09<00:11,  1.88it/s]\u001b[A\n",
      " 35%|███▌      | 11/31 [00:11<00:20,  1.04s/it]\u001b[A\n",
      " 39%|███▊      | 12/31 [00:11<00:15,  1.20it/s]\u001b[A\n",
      " 42%|████▏     | 13/31 [00:11<00:12,  1.45it/s]\u001b[A\n",
      " 45%|████▌     | 14/31 [00:12<00:09,  1.78it/s]\u001b[A\n",
      " 48%|████▊     | 15/31 [00:12<00:07,  2.06it/s]\u001b[A\n",
      " 52%|█████▏    | 16/31 [00:12<00:06,  2.15it/s]\u001b[A\n",
      " 55%|█████▍    | 17/31 [00:13<00:06,  2.30it/s]\u001b[A\n",
      " 58%|█████▊    | 18/31 [00:13<00:05,  2.55it/s]\u001b[A\n",
      " 61%|██████▏   | 19/31 [00:14<00:04,  2.43it/s]\u001b[A\n",
      " 65%|██████▍   | 20/31 [00:14<00:04,  2.54it/s]\u001b[A\n",
      " 68%|██████▊   | 21/31 [00:16<00:08,  1.24it/s]\u001b[A\n",
      " 71%|███████   | 22/31 [00:16<00:05,  1.55it/s]\u001b[A\n",
      " 74%|███████▍  | 23/31 [00:16<00:04,  1.96it/s]\u001b[A\n",
      " 77%|███████▋  | 24/31 [00:16<00:02,  2.36it/s]\u001b[A\n",
      " 81%|████████  | 25/31 [00:17<00:02,  2.81it/s]\u001b[A\n",
      " 84%|████████▍ | 26/31 [00:17<00:01,  3.13it/s]\u001b[A\n",
      " 87%|████████▋ | 27/31 [00:17<00:01,  3.50it/s]\u001b[A\n",
      " 90%|█████████ | 28/31 [00:17<00:00,  3.89it/s]\u001b[A\n",
      " 94%|█████████▎| 29/31 [00:17<00:00,  4.18it/s]\u001b[A\n",
      " 97%|█████████▋| 30/31 [00:18<00:00,  4.38it/s]\u001b[A\n",
      "100%|██████████| 31/31 [00:20<00:00,  1.10it/s]\u001b[A"
     ]
    }
   ],
   "source": [
    "for inputs, label in tqdm(test_generator):\n",
    "    test_h = model.init_hidden(len(label))\n",
    "    test_h = tuple([each.data for each in test_h])\n",
    "    inputs = inputs.to(device)\n",
    "    input1 = inputs[:,[0,3,6,9,12], :, :, :]\n",
    "    out, test_h = model(input1, test_h)\n",
    "    y1 = out.squeeze().cpu().data.numpy()\n",
    "    \n",
    "    input2 = inputs[:,[1,4,7,10,13], :, :, :]\n",
    "    out, test_h = model(input1, test_h)\n",
    "    y2 = out.squeeze().cpu().data.numpy()\n",
    "    \n",
    "    input3 = inputs[:,[2,5,8,11,14], :, :, :]\n",
    "    out, test_h = model(input1, test_h)\n",
    "    y3 = out.squeeze().cpu().data.numpy()\n",
    "    \n",
    "    predict.append(np.maximum(y1, y2, y3))\n",
    "    torch.cuda.empty_cache() \n",
    "    counter += 1\n",
    "    \n",
    "    if counter % 100 == 0:\n",
    "        logging.info(str(counter) + datetime.now().strftime(\"%H:%M:%S\")) "
   ]
  },
  {
   "cell_type": "code",
   "execution_count": 36,
   "metadata": {},
   "outputs": [
    {
     "data": {
      "text/plain": [
       "31"
      ]
     },
     "execution_count": 36,
     "metadata": {},
     "output_type": "execute_result"
    }
   ],
   "source": [
    "len(predict)"
   ]
  },
  {
   "cell_type": "code",
   "execution_count": 37,
   "metadata": {},
   "outputs": [],
   "source": [
    "pred = np.concatenate(predict)"
   ]
  },
  {
   "cell_type": "code",
   "execution_count": 38,
   "metadata": {},
   "outputs": [
    {
     "data": {
      "text/plain": [
       "308"
      ]
     },
     "execution_count": 38,
     "metadata": {},
     "output_type": "execute_result"
    }
   ],
   "source": [
    "len(pred)"
   ]
  },
  {
   "cell_type": "code",
   "execution_count": 39,
   "metadata": {},
   "outputs": [
    {
     "name": "stdout",
     "output_type": "stream",
     "text": [
      "the optimal threshold is 0.019933953881263733\n"
     ]
    }
   ],
   "source": [
    "threshold = Find_Optimal_Cutoff(Y, pred)\n",
    "print(\"the optimal threshold is \" + str(threshold[0]))\n",
    "predict_b = [1 if p > threshold[0] else 0 for p in pred]"
   ]
  },
  {
   "cell_type": "code",
   "execution_count": 40,
   "metadata": {},
   "outputs": [
    {
     "data": {
      "text/plain": [
       "0.22493038172036572"
      ]
     },
     "execution_count": 40,
     "metadata": {},
     "output_type": "execute_result"
    }
   ],
   "source": [
    "log_loss(Y, pred)"
   ]
  },
  {
   "cell_type": "code",
   "execution_count": 41,
   "metadata": {},
   "outputs": [],
   "source": [
    "matrix = confusion_matrix(Y, predict_b)"
   ]
  },
  {
   "cell_type": "code",
   "execution_count": 42,
   "metadata": {},
   "outputs": [
    {
     "data": {
      "text/plain": [
       "array([[237,  29],\n",
       "       [  5,  37]])"
      ]
     },
     "execution_count": 42,
     "metadata": {},
     "output_type": "execute_result"
    }
   ],
   "source": [
    "matrix"
   ]
  },
  {
   "cell_type": "code",
   "execution_count": 43,
   "metadata": {},
   "outputs": [
    {
     "data": {
      "text/plain": [
       "array([237,  29,   5,  37])"
      ]
     },
     "execution_count": 43,
     "metadata": {},
     "output_type": "execute_result"
    }
   ],
   "source": [
    "matrix.ravel()"
   ]
  },
  {
   "cell_type": "code",
   "execution_count": 44,
   "metadata": {
    "scrolled": false
   },
   "outputs": [
    {
     "data": {
      "image/png": "[encoded data removed]",
      "text/plain": [
       "<Figure size 576x432 with 2 Axes>"
      ]
     },
     "metadata": {
      "needs_background": "light"
     },
     "output_type": "display_data"
    }
   ],
   "source": [
    "plot_matrix(Y, predict_b, name = '1 Face')"
   ]
  }
 ],
 "metadata": {
  "kernelspec": {
   "display_name": "Python 3",
   "language": "python",
   "name": "python3"
  },
  "language_info": {
   "codemirror_mode": {
    "name": "ipython",
    "version": 3
   },
   "file_extension": ".py",
   "mimetype": "text/x-python",
   "name": "python",
   "nbconvert_exporter": "python",
   "pygments_lexer": "ipython3",
   "version": "3.6.9"
  }
 },
 "nbformat": 4,
 "nbformat_minor": 2
}
