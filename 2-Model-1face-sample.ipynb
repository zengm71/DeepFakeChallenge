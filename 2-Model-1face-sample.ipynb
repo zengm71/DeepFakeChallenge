{
 "cells": [
  {
   "cell_type": "code",
   "execution_count": 1,
   "metadata": {},
   "outputs": [
    {
     "data": {
      "text/plain": [
       "<torch._C.Generator at 0x7fbb7210da10>"
      ]
     },
     "execution_count": 1,
     "metadata": {},
     "output_type": "execute_result"
    }
   ],
   "source": [
    "import torch\n",
    "import torch.nn as nn\n",
    "import torch.nn.functional as F\n",
    "import torch.optim as optim\n",
    "import numpy as np\n",
    "from tqdm import tqdm\n",
    "torch.manual_seed(1)"
   ]
  },
  {
   "cell_type": "code",
   "execution_count": 2,
   "metadata": {},
   "outputs": [
    {
     "name": "stdout",
     "output_type": "stream",
     "text": [
      "Running on device: cuda:0\n"
     ]
    }
   ],
   "source": [
    "device = torch.device('cuda:0' if torch.cuda.is_available() else 'cpu')\n",
    "print('Running on device: {}'.format(device))"
   ]
  },
  {
   "cell_type": "markdown",
   "metadata": {},
   "source": [
    "# Create Train and Validation"
   ]
  },
  {
   "cell_type": "code",
   "execution_count": 3,
   "metadata": {},
   "outputs": [
    {
     "name": "stderr",
     "output_type": "stream",
     "text": [
      "100%|██████████| 50/50 [01:30<00:00,  1.86s/it]\n"
     ]
    }
   ],
   "source": [
    "X = []\n",
    "Y = []\n",
    "for p in tqdm(np.arange(0, 50), total = 50):\n",
    "    X_p = torch.load('data_processed/1face_X_part' + str(p) + '.pt', map_location = device)\n",
    "    Y_p = torch.load('data_processed/1face_Y_part' + str(p) + '.pt', map_location = device)\n",
    "    X = X + X_p\n",
    "    Y = Y + Y_p"
   ]
  },
  {
   "cell_type": "code",
   "execution_count": 4,
   "metadata": {},
   "outputs": [
    {
     "data": {
      "text/plain": [
       "104343"
      ]
     },
     "execution_count": 4,
     "metadata": {},
     "output_type": "execute_result"
    }
   ],
   "source": [
    "len(X)"
   ]
  },
  {
   "cell_type": "code",
   "execution_count": 5,
   "metadata": {},
   "outputs": [
    {
     "data": {
      "text/plain": [
       "104343"
      ]
     },
     "execution_count": 5,
     "metadata": {},
     "output_type": "execute_result"
    }
   ],
   "source": [
    "len(Y)"
   ]
  },
  {
   "cell_type": "code",
   "execution_count": 6,
   "metadata": {},
   "outputs": [],
   "source": [
    "X = torch.stack(X)"
   ]
  },
  {
   "cell_type": "code",
   "execution_count": 7,
   "metadata": {},
   "outputs": [
    {
     "data": {
      "text/plain": [
       "torch.Size([104343, 30, 512])"
      ]
     },
     "execution_count": 7,
     "metadata": {},
     "output_type": "execute_result"
    }
   ],
   "source": [
    "X.shape"
   ]
  },
  {
   "cell_type": "code",
   "execution_count": 9,
   "metadata": {},
   "outputs": [],
   "source": [
    "torch.save(X, './data_tomodel/X.pt')\n",
    "torch.save(Y, './data_tomodel/Y.pt')"
   ]
  },
  {
   "cell_type": "code",
   "execution_count": 21,
   "metadata": {},
   "outputs": [],
   "source": [
    "from torch.utils.data import TensorDataset, DataLoader\n",
    "dataset = TensorDataset(X[0:104300], torch.from_numpy(np.array(Y[0:104300])))\n",
    "train_data, val_data = torch.utils.data.random_split(dataset, [100000, 4300])\n",
    "train_batch_size = 1000\n",
    "val_batch_size = 100\n",
    "train_loader = DataLoader(train_data, shuffle=True, batch_size=train_batch_size)\n",
    "val_loader = DataLoader(val_data, shuffle=True, batch_size=val_batch_size)"
   ]
  },
  {
   "cell_type": "markdown",
   "metadata": {},
   "source": [
    "# Create Model"
   ]
  },
  {
   "cell_type": "code",
   "execution_count": 77,
   "metadata": {},
   "outputs": [],
   "source": [
    "import torch.nn as nn\n",
    "\n",
    "class DFDCNet(nn.Module):\n",
    "    def __init__(self, input_size, output_size, hidden_dim, n_layers, drop_prob=0.5):\n",
    "        super(DFDCNet, self).__init__()\n",
    "        self.output_size = output_size\n",
    "        self.n_layers = n_layers\n",
    "        self.hidden_dim = hidden_dim\n",
    "        \n",
    "        self.lstm = nn.LSTM(input_size, hidden_dim, n_layers, dropout=drop_prob, batch_first=True)\n",
    "        self.dropout = nn.Dropout(0.5)\n",
    "        self.batchnorm = nn.BatchNorm1d(hidden_dim)\n",
    "        self.elu = nn.ELU()\n",
    "        self.fc1 = nn.Linear(hidden_dim, 8)\n",
    "#         self.fc2 = nn.Linear(64, 32)\n",
    "#         self.fc3 = nn.Linear(32, 16)\n",
    "        self.fc4 = nn.Linear(8, output_size)\n",
    "        self.sigmoid = nn.Sigmoid()\n",
    "        \n",
    "    def forward(self, x, hidden):\n",
    "        batch_size = x.size(0)\n",
    "        x = x.float()\n",
    "        \n",
    "        lstm_out, hidden = self.lstm(x, hidden)\n",
    "        lstm_out = lstm_out.contiguous().view(-1, self.hidden_dim)\n",
    "        \n",
    "        out = self.dropout(lstm_out)\n",
    "        out = self.batchnorm(out)\n",
    "        out = self.fc1(out)\n",
    "        out = self.elu(out)\n",
    "#         out = self.fc2(out)\n",
    "#         out = self.elu(out)\n",
    "#         out = self.fc3(out)\n",
    "#         out = self.elu(out)\n",
    "        out = self.fc4(out)\n",
    "        out = self.sigmoid(out)\n",
    "        \n",
    "        out = out.view(batch_size, -1)\n",
    "        out = out[:,-1]\n",
    "        return out, hidden\n",
    "    \n",
    "    def init_hidden(self, batch_size):\n",
    "        weight = next(self.parameters()).data\n",
    "        hidden = (weight.new(self.n_layers, batch_size, self.hidden_dim).zero_().to(device),\n",
    "                      weight.new(self.n_layers, batch_size, self.hidden_dim).zero_().to(device))\n",
    "        return hidden"
   ]
  },
  {
   "cell_type": "code",
   "execution_count": 78,
   "metadata": {},
   "outputs": [
    {
     "name": "stdout",
     "output_type": "stream",
     "text": [
      "DFDCNet(\n",
      "  (lstm): LSTM(512, 64, num_layers=5, batch_first=True, dropout=0.5)\n",
      "  (dropout): Dropout(p=0.5, inplace=False)\n",
      "  (batchnorm): BatchNorm1d(64, eps=1e-05, momentum=0.1, affine=True, track_running_stats=True)\n",
      "  (elu): ELU(alpha=1.0)\n",
      "  (fc1): Linear(in_features=64, out_features=8, bias=True)\n",
      "  (fc4): Linear(in_features=8, out_features=1, bias=True)\n",
      "  (sigmoid): Sigmoid()\n",
      ")\n"
     ]
    }
   ],
   "source": [
    "input_size = 512\n",
    "output_size = 1\n",
    "hidden_dim = 64\n",
    "n_layers = 5\n",
    "\n",
    "model = DFDCNet(input_size, output_size, hidden_dim, n_layers)\n",
    "model.to(device)\n",
    "train_criterion = nn.BCELoss()\n",
    "val_criterion = nn.BCELoss()\n",
    "\n",
    "optimizer = torch.optim.Adam(model.parameters(), lr=0.001)\n",
    "print(model)"
   ]
  },
  {
   "cell_type": "code",
   "execution_count": 84,
   "metadata": {},
   "outputs": [],
   "source": [
    "# scheduler\n",
    "from torch.optim.lr_scheduler import ReduceLROnPlateau\n",
    "scheduler = ReduceLROnPlateau(optimizer, mode='min', factor=0.5, patience=500, verbose=True)\n"
   ]
  },
  {
   "cell_type": "code",
   "execution_count": null,
   "metadata": {
    "scrolled": false
   },
   "outputs": [
    {
     "name": "stdout",
     "output_type": "stream",
     "text": [
      "Epoch: 10/10000... Step: 1000... Loss: 0.340119... Val Loss: 0.365234\n",
      "Validation loss decreased (inf --> 0.365234).  Saving model ...\n",
      "Epoch: 20/10000... Step: 2000... Loss: 0.358158... Val Loss: 0.367376\n",
      "Epoch: 30/10000... Step: 3000... Loss: 0.336284... Val Loss: 0.367669\n",
      "Epoch: 40/10000... Step: 4000... Loss: 0.365881... Val Loss: 0.366505\n",
      "Epoch: 50/10000... Step: 5000... Loss: 0.357347... Val Loss: 0.370204\n",
      "Epoch: 60/10000... Step: 6000... Loss: 0.355511... Val Loss: 0.369366\n",
      "Epoch: 70/10000... Step: 7000... Loss: 0.328069... Val Loss: 0.367552\n",
      "Epoch: 80/10000... Step: 8000... Loss: 0.350698... Val Loss: 0.365523\n",
      "Epoch: 90/10000... Step: 9000... Loss: 0.347739... Val Loss: 0.370662\n",
      "Epoch: 100/10000... Step: 10000... Loss: 0.362528... Val Loss: 0.369059\n",
      "Epoch: 110/10000... Step: 11000... Loss: 0.335087... Val Loss: 0.367476\n",
      "Epoch: 120/10000... Step: 12000... Loss: 0.344090... Val Loss: 0.368671\n",
      "Epoch: 130/10000... Step: 13000... Loss: 0.356854... Val Loss: 0.368306\n",
      "Epoch: 140/10000... Step: 14000... Loss: 0.330578... Val Loss: 0.367856\n",
      "Epoch: 150/10000... Step: 15000... Loss: 0.342939... Val Loss: 0.369598\n",
      "Epoch: 160/10000... Step: 16000... Loss: 0.380991... Val Loss: 0.368537\n",
      "Epoch: 170/10000... Step: 17000... Loss: 0.378109... Val Loss: 0.364707\n",
      "Validation loss decreased (0.365234 --> 0.364707).  Saving model ...\n",
      "Epoch: 180/10000... Step: 18000... Loss: 0.353715... Val Loss: 0.367408\n",
      "Epoch: 190/10000... Step: 19000... Loss: 0.338707... Val Loss: 0.367961\n",
      "Epoch: 200/10000... Step: 20000... Loss: 0.366104... Val Loss: 0.367128\n",
      "Epoch: 210/10000... Step: 21000... Loss: 0.366617... Val Loss: 0.369741\n",
      "Epoch: 220/10000... Step: 22000... Loss: 0.354780... Val Loss: 0.367410\n",
      "Epoch: 230/10000... Step: 23000... Loss: 0.344050... Val Loss: 0.367680\n",
      "Epoch: 240/10000... Step: 24000... Loss: 0.352226... Val Loss: 0.366791\n",
      "Epoch: 250/10000... Step: 25000... Loss: 0.340790... Val Loss: 0.368655\n",
      "Epoch: 260/10000... Step: 26000... Loss: 0.364080... Val Loss: 0.370552\n",
      "Epoch: 270/10000... Step: 27000... Loss: 0.360269... Val Loss: 0.368004\n",
      "Epoch: 280/10000... Step: 28000... Loss: 0.374322... Val Loss: 0.367631\n",
      "Epoch: 290/10000... Step: 29000... Loss: 0.373007... Val Loss: 0.365591\n",
      "Epoch: 300/10000... Step: 30000... Loss: 0.340756... Val Loss: 0.364457\n",
      "Validation loss decreased (0.364707 --> 0.364457).  Saving model ...\n",
      "Epoch: 310/10000... Step: 31000... Loss: 0.368416... Val Loss: 0.370721\n",
      "Epoch: 320/10000... Step: 32000... Loss: 0.360455... Val Loss: 0.367143\n",
      "Epoch: 330/10000... Step: 33000... Loss: 0.374880... Val Loss: 0.366680\n",
      "Epoch: 340/10000... Step: 34000... Loss: 0.379137... Val Loss: 0.368045\n"
     ]
    }
   ],
   "source": [
    "epochs = 10000\n",
    "counter = 0\n",
    "print_every = 1000\n",
    "clip = .5\n",
    "valid_loss_min = np.Inf\n",
    "\n",
    "model.train()\n",
    "for i in range(epochs):\n",
    "    h = model.init_hidden(train_batch_size)\n",
    "    \n",
    "    for inputs, labels in train_loader:\n",
    "        counter += 1\n",
    "        h = tuple([e.data for e in h])\n",
    "        inputs, labels = inputs.to(device), labels.to(device)\n",
    "        model.zero_grad()\n",
    "        output, h = model(inputs, h)\n",
    "        loss = train_criterion(output.squeeze(), labels.float())\n",
    "        loss.backward()\n",
    "        nn.utils.clip_grad_norm_(model.parameters(), clip)\n",
    "        optimizer.step()\n",
    "        \n",
    "        if counter%print_every == 0:\n",
    "            val_h = model.init_hidden(val_batch_size)\n",
    "            val_losses = []\n",
    "            model.eval()\n",
    "            for inp, lab in val_loader:\n",
    "                val_h = tuple([each.data for each in val_h])\n",
    "                inp, lab = inp.to(device), lab.to(device)\n",
    "                out, val_h = model(inp, val_h)\n",
    "                val_loss = val_criterion(out.squeeze(), lab.float())\n",
    "                val_losses.append(val_loss.item())\n",
    "                \n",
    "            model.train()\n",
    "            print(\"Epoch: {}/{}...\".format(i+1, epochs),\n",
    "                  \"Step: {}...\".format(counter),\n",
    "                  \"Loss: {:.6f}...\".format(loss.item()),\n",
    "                  \"Val Loss: {:.6f}\".format(np.mean(val_losses)))\n",
    "            if np.mean(val_losses) <= valid_loss_min:\n",
    "                torch.save(model.state_dict(), './model_1face.pt')\n",
    "                print('Validation loss decreased ({:.6f} --> {:.6f}).  Saving model ...'.format(valid_loss_min,np.mean(val_losses)))\n",
    "                valid_loss_min = np.mean(val_losses)\n",
    "    scheduler.step(val_loss.item())\n"
   ]
  },
  {
   "cell_type": "markdown",
   "metadata": {},
   "source": [
    "# Reference\n",
    "* https://github.com/gabrielloye/LSTM_Sentiment-Analysis/blob/master/main.ipynb"
   ]
  }
 ],
 "metadata": {
  "kernelspec": {
   "display_name": "Python 3",
   "language": "python",
   "name": "python3"
  },
  "language_info": {
   "codemirror_mode": {
    "name": "ipython",
    "version": 3
   },
   "file_extension": ".py",
   "mimetype": "text/x-python",
   "name": "python",
   "nbconvert_exporter": "python",
   "pygments_lexer": "ipython3",
   "version": "3.6.9"
  }
 },
 "nbformat": 4,
 "nbformat_minor": 2
}
