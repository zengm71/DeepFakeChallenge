{
 "cells": [
  {
   "cell_type": "code",
   "execution_count": 15,
   "metadata": {},
   "outputs": [
    {
     "data": {
      "text/plain": [
       "<torch._C.Generator at 0x7fa54c112b10>"
      ]
     },
     "execution_count": 15,
     "metadata": {},
     "output_type": "execute_result"
    }
   ],
   "source": [
    "import torch\n",
    "import torch.nn as nn\n",
    "import torch.nn.functional as F\n",
    "import torch.optim as optim\n",
    "import numpy as np\n",
    "from tqdm import tqdm\n",
    "torch.manual_seed(1)"
   ]
  },
  {
   "cell_type": "code",
   "execution_count": 17,
   "metadata": {},
   "outputs": [
    {
     "name": "stdout",
     "output_type": "stream",
     "text": [
      "Running on device: cuda:0\n"
     ]
    }
   ],
   "source": [
    "device = torch.device('cuda:0' if torch.cuda.is_available() else 'cpu')\n",
    "print('Running on device: {}'.format(device))"
   ]
  },
  {
   "cell_type": "markdown",
   "metadata": {},
   "source": [
    "# Create Train and Validation"
   ]
  },
  {
   "cell_type": "code",
   "execution_count": 37,
   "metadata": {},
   "outputs": [
    {
     "name": "stderr",
     "output_type": "stream",
     "text": [
      "100%|██████████| 50/50 [01:07<00:00,  1.54s/it]\n"
     ]
    }
   ],
   "source": [
    "X = []\n",
    "Y = []\n",
    "for p in tqdm(np.arange(0, 50), total = 50):\n",
    "    X_p = torch.load('data_processed/1face_X_part' + str(p) + '.pt', map_location = device)\n",
    "    Y_p = torch.load('data_processed/1face_Y_part' + str(p) + '.pt', map_location = device)\n",
    "    X = X + X_p\n",
    "    Y = Y + Y_p"
   ]
  },
  {
   "cell_type": "code",
   "execution_count": 38,
   "metadata": {},
   "outputs": [
    {
     "data": {
      "text/plain": [
       "88209"
      ]
     },
     "execution_count": 38,
     "metadata": {},
     "output_type": "execute_result"
    }
   ],
   "source": [
    "len(X)"
   ]
  },
  {
   "cell_type": "code",
   "execution_count": 39,
   "metadata": {},
   "outputs": [
    {
     "data": {
      "text/plain": [
       "88209"
      ]
     },
     "execution_count": 39,
     "metadata": {},
     "output_type": "execute_result"
    }
   ],
   "source": [
    "len(Y)"
   ]
  },
  {
   "cell_type": "code",
   "execution_count": 40,
   "metadata": {},
   "outputs": [],
   "source": [
    "X = torch.stack(X)"
   ]
  },
  {
   "cell_type": "code",
   "execution_count": 67,
   "metadata": {},
   "outputs": [
    {
     "data": {
      "text/plain": [
       "torch.Size([88209, 30, 512])"
      ]
     },
     "execution_count": 67,
     "metadata": {},
     "output_type": "execute_result"
    }
   ],
   "source": [
    "X.shape"
   ]
  },
  {
   "cell_type": "code",
   "execution_count": 50,
   "metadata": {},
   "outputs": [],
   "source": [
    "from torch.utils.data import TensorDataset, DataLoader\n",
    "dataset = TensorDataset(X[0:88200], torch.from_numpy(np.array(Y[0:88200])))\n",
    "train_data, val_data = torch.utils.data.random_split(dataset, [80000, 8200])\n",
    "batch_size = 100\n",
    "\n",
    "train_loader = DataLoader(train_data, shuffle=True, batch_size=batch_size)\n",
    "val_loader = DataLoader(val_data, shuffle=True, batch_size=batch_size)"
   ]
  },
  {
   "cell_type": "markdown",
   "metadata": {},
   "source": [
    "# Create Model"
   ]
  },
  {
   "cell_type": "code",
   "execution_count": 62,
   "metadata": {},
   "outputs": [],
   "source": [
    "import torch.nn as nn\n",
    "\n",
    "class DFDCNet(nn.Module):\n",
    "    def __init__(self, input_size, output_size, hidden_dim, n_layers, drop_prob=0.7):\n",
    "        super(DFDCNet, self).__init__()\n",
    "        self.output_size = output_size\n",
    "        self.n_layers = n_layers\n",
    "        self.hidden_dim = hidden_dim\n",
    "        \n",
    "        self.lstm = nn.LSTM(input_size, hidden_dim, n_layers, dropout=drop_prob, batch_first=True)\n",
    "        self.dropout = nn.Dropout(0.7)\n",
    "        self.fc = nn.Linear(hidden_dim, output_size)\n",
    "        self.sigmoid = nn.Sigmoid()\n",
    "        \n",
    "    def forward(self, x, hidden):\n",
    "        batch_size = x.size(0)\n",
    "        x = x.float()\n",
    "        \n",
    "        lstm_out, hidden = self.lstm(x, hidden)\n",
    "        lstm_out = lstm_out.contiguous().view(-1, self.hidden_dim)\n",
    "        \n",
    "        out = self.dropout(lstm_out)\n",
    "        out = self.fc(out)\n",
    "        out = self.sigmoid(out)\n",
    "        \n",
    "        out = out.view(batch_size, -1)\n",
    "        out = out[:,-1]\n",
    "        return out, hidden\n",
    "    \n",
    "    def init_hidden(self, batch_size):\n",
    "        weight = next(self.parameters()).data\n",
    "        hidden = (weight.new(self.n_layers, batch_size, self.hidden_dim).zero_().to(device),\n",
    "                      weight.new(self.n_layers, batch_size, self.hidden_dim).zero_().to(device))\n",
    "        return hidden"
   ]
  },
  {
   "cell_type": "code",
   "execution_count": 70,
   "metadata": {},
   "outputs": [
    {
     "name": "stdout",
     "output_type": "stream",
     "text": [
      "DFDCNet(\n",
      "  (lstm): LSTM(512, 25, num_layers=10, batch_first=True, dropout=0.7)\n",
      "  (dropout): Dropout(p=0.7, inplace=False)\n",
      "  (fc): Linear(in_features=25, out_features=1, bias=True)\n",
      "  (sigmoid): Sigmoid()\n",
      ")\n"
     ]
    }
   ],
   "source": [
    "input_size = 512\n",
    "output_size = 1\n",
    "hidden_dim = 25\n",
    "n_layers = 10\n",
    "\n",
    "model = DFDCNet(input_size, output_size, hidden_dim, n_layers)\n",
    "model.to(device)\n",
    "criterion = nn.BCELoss()\n",
    "optimizer = torch.optim.Adam(model.parameters(), lr=0.00001)\n",
    "print(model)"
   ]
  },
  {
   "cell_type": "code",
   "execution_count": null,
   "metadata": {
    "scrolled": true
   },
   "outputs": [
    {
     "name": "stdout",
     "output_type": "stream",
     "text": [
      "Epoch: 2/100... Step: 1000... Loss: 0.623089... Val Loss: 0.623281\n",
      "Validation loss decreased (inf --> 0.623281).  Saving model ...\n",
      "Epoch: 3/100... Step: 2000... Loss: 0.492256... Val Loss: 0.483102\n",
      "Validation loss decreased (0.623281 --> 0.483102).  Saving model ...\n",
      "Epoch: 4/100... Step: 3000... Loss: 0.438843... Val Loss: 0.452579\n",
      "Validation loss decreased (0.483102 --> 0.452579).  Saving model ...\n",
      "Epoch: 5/100... Step: 4000... Loss: 0.517727... Val Loss: 0.451021\n",
      "Validation loss decreased (0.452579 --> 0.451021).  Saving model ...\n",
      "Epoch: 7/100... Step: 5000... Loss: 0.386208... Val Loss: 0.451296\n",
      "Epoch: 8/100... Step: 6000... Loss: 0.408519... Val Loss: 0.451467\n",
      "Epoch: 9/100... Step: 7000... Loss: 0.413138... Val Loss: 0.451641\n",
      "Epoch: 10/100... Step: 8000... Loss: 0.413793... Val Loss: 0.451709\n",
      "Epoch: 12/100... Step: 9000... Loss: 0.437181... Val Loss: 0.451636\n",
      "Epoch: 13/100... Step: 10000... Loss: 0.474009... Val Loss: 0.451683\n",
      "Epoch: 14/100... Step: 11000... Loss: 0.390873... Val Loss: 0.451599\n",
      "Epoch: 15/100... Step: 12000... Loss: 0.432476... Val Loss: 0.451560\n",
      "Epoch: 17/100... Step: 13000... Loss: 0.537204... Val Loss: 0.451636\n",
      "Epoch: 18/100... Step: 14000... Loss: 0.589642... Val Loss: 0.451707\n",
      "Epoch: 19/100... Step: 15000... Loss: 0.533029... Val Loss: 0.451720\n",
      "Epoch: 20/100... Step: 16000... Loss: 0.398051... Val Loss: 0.451710\n",
      "Epoch: 22/100... Step: 17000... Loss: 0.442798... Val Loss: 0.451604\n",
      "Epoch: 23/100... Step: 18000... Loss: 0.460472... Val Loss: 0.451618\n",
      "Epoch: 24/100... Step: 19000... Loss: 0.357989... Val Loss: 0.451678\n",
      "Epoch: 25/100... Step: 20000... Loss: 0.578374... Val Loss: 0.451602\n",
      "Epoch: 27/100... Step: 21000... Loss: 0.606987... Val Loss: 0.451545\n",
      "Epoch: 28/100... Step: 22000... Loss: 0.446405... Val Loss: 0.451548\n",
      "Epoch: 29/100... Step: 23000... Loss: 0.479757... Val Loss: 0.451567\n",
      "Epoch: 30/100... Step: 24000... Loss: 0.391072... Val Loss: 0.451500\n",
      "Epoch: 32/100... Step: 25000... Loss: 0.493106... Val Loss: 0.451458\n",
      "Epoch: 33/100... Step: 26000... Loss: 0.441370... Val Loss: 0.451543\n",
      "Epoch: 34/100... Step: 27000... Loss: 0.396708... Val Loss: 0.451498\n",
      "Epoch: 35/100... Step: 28000... Loss: 0.392542... Val Loss: 0.451471\n",
      "Epoch: 37/100... Step: 29000... Loss: 0.492342... Val Loss: 0.451594\n",
      "Epoch: 38/100... Step: 30000... Loss: 0.465001... Val Loss: 0.451387\n",
      "Epoch: 39/100... Step: 31000... Loss: 0.543877... Val Loss: 0.451424\n",
      "Epoch: 40/100... Step: 32000... Loss: 0.474931... Val Loss: 0.451271\n",
      "Epoch: 42/100... Step: 33000... Loss: 0.515029... Val Loss: 0.451270\n",
      "Epoch: 43/100... Step: 34000... Loss: 0.460394... Val Loss: 0.451272\n",
      "Epoch: 44/100... Step: 35000... Loss: 0.428881... Val Loss: 0.451248\n",
      "Epoch: 45/100... Step: 36000... Loss: 0.431612... Val Loss: 0.451290\n",
      "Epoch: 47/100... Step: 37000... Loss: 0.570567... Val Loss: 0.451263\n",
      "Epoch: 48/100... Step: 38000... Loss: 0.423854... Val Loss: 0.451179\n",
      "Epoch: 49/100... Step: 39000... Loss: 0.494273... Val Loss: 0.451182\n",
      "Epoch: 50/100... Step: 40000... Loss: 0.525549... Val Loss: 0.451155\n",
      "Epoch: 52/100... Step: 41000... Loss: 0.368299... Val Loss: 0.451116\n",
      "Epoch: 53/100... Step: 42000... Loss: 0.456305... Val Loss: 0.451268\n",
      "Epoch: 54/100... Step: 43000... Loss: 0.464630... Val Loss: 0.451177\n",
      "Epoch: 55/100... Step: 44000... Loss: 0.452373... Val Loss: 0.451108\n",
      "Epoch: 57/100... Step: 45000... Loss: 0.474991... Val Loss: 0.451073\n",
      "Epoch: 58/100... Step: 46000... Loss: 0.471818... Val Loss: 0.451063\n",
      "Epoch: 59/100... Step: 47000... Loss: 0.420113... Val Loss: 0.451103\n",
      "Epoch: 60/100... Step: 48000... Loss: 0.441328... Val Loss: 0.451094\n",
      "Epoch: 62/100... Step: 49000... Loss: 0.468278... Val Loss: 0.451083\n",
      "Epoch: 63/100... Step: 50000... Loss: 0.446850... Val Loss: 0.451054\n",
      "Epoch: 64/100... Step: 51000... Loss: 0.358093... Val Loss: 0.451097\n",
      "Epoch: 65/100... Step: 52000... Loss: 0.517435... Val Loss: 0.451048\n",
      "Epoch: 67/100... Step: 53000... Loss: 0.469123... Val Loss: 0.451073\n",
      "Epoch: 68/100... Step: 54000... Loss: 0.467931... Val Loss: 0.451031\n",
      "Epoch: 69/100... Step: 55000... Loss: 0.441079... Val Loss: 0.451074\n",
      "Epoch: 70/100... Step: 56000... Loss: 0.386816... Val Loss: 0.451027\n",
      "Epoch: 72/100... Step: 57000... Loss: 0.648942... Val Loss: 0.451066\n",
      "Epoch: 73/100... Step: 58000... Loss: 0.467437... Val Loss: 0.451056\n",
      "Epoch: 74/100... Step: 59000... Loss: 0.457458... Val Loss: 0.451019\n",
      "Validation loss decreased (0.451021 --> 0.451019).  Saving model ...\n",
      "Epoch: 75/100... Step: 60000... Loss: 0.439940... Val Loss: 0.451032\n",
      "Epoch: 77/100... Step: 61000... Loss: 0.450005... Val Loss: 0.451021\n",
      "Epoch: 78/100... Step: 62000... Loss: 0.505300... Val Loss: 0.451030\n",
      "Epoch: 79/100... Step: 63000... Loss: 0.422708... Val Loss: 0.451027\n",
      "Epoch: 80/100... Step: 64000... Loss: 0.498407... Val Loss: 0.451022\n",
      "Epoch: 82/100... Step: 65000... Loss: 0.518957... Val Loss: 0.451032\n"
     ]
    }
   ],
   "source": [
    "epochs = 100\n",
    "counter = 0\n",
    "print_every = 1000\n",
    "clip = 5\n",
    "valid_loss_min = np.Inf\n",
    "\n",
    "model.train()\n",
    "for i in range(epochs):\n",
    "    h = model.init_hidden(batch_size)\n",
    "    \n",
    "    for inputs, labels in train_loader:\n",
    "        counter += 1\n",
    "        h = tuple([e.data for e in h])\n",
    "        inputs, labels = inputs.to(device), labels.to(device)\n",
    "        model.zero_grad()\n",
    "        output, h = model(inputs, h)\n",
    "        loss = criterion(output.squeeze(), labels.float())\n",
    "        loss.backward()\n",
    "        nn.utils.clip_grad_norm_(model.parameters(), clip)\n",
    "        optimizer.step()\n",
    "        \n",
    "        if counter%print_every == 0:\n",
    "            val_h = model.init_hidden(batch_size)\n",
    "            val_losses = []\n",
    "            model.eval()\n",
    "            for inp, lab in val_loader:\n",
    "                val_h = tuple([each.data for each in val_h])\n",
    "                inp, lab = inp.to(device), lab.to(device)\n",
    "                out, val_h = model(inp, val_h)\n",
    "                val_loss = criterion(out.squeeze(), lab.float())\n",
    "                val_losses.append(val_loss.item())\n",
    "                \n",
    "            model.train()\n",
    "            print(\"Epoch: {}/{}...\".format(i+1, epochs),\n",
    "                  \"Step: {}...\".format(counter),\n",
    "                  \"Loss: {:.6f}...\".format(loss.item()),\n",
    "                  \"Val Loss: {:.6f}\".format(np.mean(val_losses)))\n",
    "            if np.mean(val_losses) <= valid_loss_min:\n",
    "                torch.save(model.state_dict(), './model_1face.pt')\n",
    "                print('Validation loss decreased ({:.6f} --> {:.6f}).  Saving model ...'.format(valid_loss_min,np.mean(val_losses)))\n",
    "                valid_loss_min = np.mean(val_losses)"
   ]
  },
  {
   "cell_type": "markdown",
   "metadata": {},
   "source": [
    "# Reference\n",
    "* https://github.com/gabrielloye/LSTM_Sentiment-Analysis/blob/master/main.ipynb"
   ]
  },
  {
   "cell_type": "code",
   "execution_count": null,
   "metadata": {},
   "outputs": [],
   "source": []
  }
 ],
 "metadata": {
  "kernelspec": {
   "display_name": "Python 3",
   "language": "python",
   "name": "python3"
  },
  "language_info": {
   "codemirror_mode": {
    "name": "ipython",
    "version": 3
   },
   "file_extension": ".py",
   "mimetype": "text/x-python",
   "name": "python",
   "nbconvert_exporter": "python",
   "pygments_lexer": "ipython3",
   "version": "3.6.9"
  }
 },
 "nbformat": 4,
 "nbformat_minor": 2
}
