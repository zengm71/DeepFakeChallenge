{
 "cells": [
  {
   "cell_type": "code",
   "execution_count": null,
   "metadata": {},
   "outputs": [],
   "source": [
    "import torch\n",
    "import torch.nn as nn\n",
    "import torch.nn.functional as F\n",
    "import timm\n",
    "import torch.optim as optim\n",
    "import numpy as np\n",
    "import pandas as pd\n",
    "from tqdm import tqdm\n",
    "torch.manual_seed(1)\n",
    "\n",
    "device = torch.device('cuda:0' if torch.cuda.is_available() else 'cpu')\n",
    "cpu = torch.device('cpu')\n",
    "print('Running on device: {}'.format(device))"
   ]
  },
  {
   "cell_type": "code",
   "execution_count": null,
   "metadata": {},
   "outputs": [],
   "source": [
    "class Identity(nn.Module):\n",
    "    def __init__(self):\n",
    "        super(Identity, self).__init__()\n",
    "        \n",
    "    def forward(self, x):\n",
    "        return x"
   ]
  },
  {
   "cell_type": "code",
   "execution_count": null,
   "metadata": {},
   "outputs": [],
   "source": [
    "# mixnet = timm.create_model(\"efficientnet_b2a\", pretrained=True)"
   ]
  },
  {
   "cell_type": "code",
   "execution_count": null,
   "metadata": {},
   "outputs": [],
   "source": [
    "import torch.nn as nn\n",
    "\n",
    "class DFDCNet(nn.Module):\n",
    "    def __init__(self, input_size, output_size, hidden_dim, n_layers, drop_prob=0.5):\n",
    "        super(DFDCNet, self).__init__()\n",
    "        self.output_size = output_size\n",
    "        self.n_layers = n_layers\n",
    "        self.hidden_dim = hidden_dim\n",
    "        \n",
    "        self.mixnet = timm.create_model(\"efficientnet_b2a\", pretrained=True)\n",
    "        self.mixnet.classifier = Identity()\n",
    "#         l = 0\n",
    "#         for param in self.mixnet.parameters():\n",
    "#             l = l + 1\n",
    "#             if l > 200:\n",
    "#                 param.requires_grad = True\n",
    "                \n",
    "        self.lstm = nn.LSTM(1408, hidden_dim, n_layers, dropout=drop_prob, batch_first=True)\n",
    "        self.dropout = nn.Dropout(0.5)\n",
    "        self.batchnorm = nn.BatchNorm1d(hidden_dim)\n",
    "        self.elu = nn.ELU()\n",
    "        self.fc1 = nn.Linear(hidden_dim, 32)\n",
    "#         self.fc2 = nn.Linear(64, 32)\n",
    "#         self.fc3 = nn.Linear(32, 16)\n",
    "        self.fc4 = nn.Linear(32, output_size)\n",
    "        self.sigmoid = nn.Sigmoid()\n",
    "        \n",
    "    def forward(self, x, hidden):\n",
    "        batch_size, seqlen, c, h, w = x.size()\n",
    "        x = x.reshape(batch_size*seqlen, c, h, w).float()\n",
    "        x = self.mixnet(x)\n",
    "        x = x.reshape(batch_size, seqlen, x.shape[1])\n",
    "        lstm_out, hidden = self.lstm(x, hidden)\n",
    "        lstm_out = lstm_out.contiguous().view(-1, self.hidden_dim)\n",
    "        \n",
    "        out = self.dropout(lstm_out)\n",
    "#         out = self.batchnorm(out)\n",
    "        out = self.fc1(out)\n",
    "        out = self.elu(out)\n",
    "#         out = self.fc2(out)\n",
    "#         out = self.elu(out)\n",
    "#         out = self.fc3(out)\n",
    "#         out = self.elu(out)\n",
    "        out = self.fc4(out)\n",
    "        out = self.sigmoid(out)\n",
    "        \n",
    "        out = out.view(batch_size, -1)\n",
    "        out = out[:,-1]\n",
    "        return out, hidden\n",
    "    \n",
    "    def init_hidden(self, batch_size):\n",
    "        weight = next(self.parameters()).data\n",
    "        hidden = (weight.new(self.n_layers, batch_size, self.hidden_dim).zero_().to(device),\n",
    "                      weight.new(self.n_layers, batch_size, self.hidden_dim).zero_().to(device))\n",
    "        return hidden"
   ]
  },
  {
   "cell_type": "code",
   "execution_count": null,
   "metadata": {},
   "outputs": [],
   "source": [
    " !ls -ln data_images | head -n 50"
   ]
  },
  {
   "cell_type": "code",
   "execution_count": null,
   "metadata": {},
   "outputs": [],
   "source": [
    "for p in np.arange(0,30):\n",
    "    if p == 0:\n",
    "        metadata = torch.load('data_images/000metadata_part_' + str(p) + '.pt', map_location = cpu)\n",
    "    else:\n",
    "        metadata_p = torch.load('data_images/000metadata_part_' + str(p) + '.pt', map_location = cpu)\n",
    "        metadata = pd.concat([metadata, metadata_p])"
   ]
  },
  {
   "cell_type": "code",
   "execution_count": null,
   "metadata": {},
   "outputs": [],
   "source": [
    "metadata.n_face.value_counts()"
   ]
  },
  {
   "cell_type": "code",
   "execution_count": null,
   "metadata": {},
   "outputs": [],
   "source": [
    "metadata.head()"
   ]
  },
  {
   "cell_type": "code",
   "execution_count": null,
   "metadata": {},
   "outputs": [],
   "source": [
    "X = np.array(metadata.index[metadata.n_face == 1])\n",
    "Y = np.array(1 * (metadata.label[metadata.n_face == 1] == 'REAL'))"
   ]
  },
  {
   "cell_type": "code",
   "execution_count": null,
   "metadata": {},
   "outputs": [],
   "source": [
    "X[0:5]"
   ]
  },
  {
   "cell_type": "code",
   "execution_count": null,
   "metadata": {},
   "outputs": [],
   "source": [
    "Y[0:5]"
   ]
  },
  {
   "cell_type": "code",
   "execution_count": null,
   "metadata": {},
   "outputs": [],
   "source": [
    "len(X)"
   ]
  },
  {
   "cell_type": "code",
   "execution_count": null,
   "metadata": {},
   "outputs": [],
   "source": [
    "len(Y)"
   ]
  },
  {
   "cell_type": "code",
   "execution_count": null,
   "metadata": {},
   "outputs": [],
   "source": [
    "n_videos = len(X)\n",
    "n_videos_train = int(1000 * 50)\n",
    "n_videos_val = int(100 * (np.floor((n_videos - n_videos_train)/100)))\n",
    "print(str(n_videos_train) + ' for training')\n",
    "print(str(n_videos_val) + ' for validation')"
   ]
  },
  {
   "cell_type": "code",
   "execution_count": null,
   "metadata": {},
   "outputs": [],
   "source": [
    "from torch.utils.data import TensorDataset, DataLoader\n",
    "dataset = TensorDataset(torch.from_numpy(np.arange(0, n_videos_train + n_videos_val)), \n",
    "                        torch.from_numpy(Y[0: n_videos_train + n_videos_val]))\n",
    "train_data, val_data = torch.utils.data.random_split(dataset, [n_videos_train, n_videos_val])\n",
    "train_batch_size = 20\n",
    "val_batch_size = 10\n",
    "train_loader = DataLoader(train_data, shuffle=True, batch_size=train_batch_size, num_workers = 16)\n",
    "val_loader = DataLoader(val_data, shuffle=True, batch_size=val_batch_size, num_workers = 16)"
   ]
  },
  {
   "cell_type": "code",
   "execution_count": null,
   "metadata": {},
   "outputs": [],
   "source": [
    "input_size = 512\n",
    "output_size = 1\n",
    "hidden_dim = 512\n",
    "n_layers = 2\n",
    "\n",
    "model = DFDCNet(input_size, output_size, hidden_dim, n_layers)\n",
    "model.to(device)"
   ]
  },
  {
   "cell_type": "code",
   "execution_count": null,
   "metadata": {},
   "outputs": [],
   "source": [
    "param_optimizer = list(model.named_parameters())\n",
    "\n",
    "train_criterion = nn.BCELoss()\n",
    "val_criterion = nn.BCELoss()\n",
    "# no_decay = ['bias', 'bn']\n",
    "# plist = [\n",
    "#     {'params': [p for n, p in param_optimizer if not any(nd in n for nd in no_decay)], 'weight_decay': 0.0},\n",
    "#     {'params': [p for n, p in param_optimizer if any(nd in n for nd in no_decay)], 'weight_decay': 0.0}\n",
    "#     ]\n",
    "optimizer = optim.Adam(model.parameters(), lr=0.0001)"
   ]
  },
  {
   "cell_type": "code",
   "execution_count": null,
   "metadata": {},
   "outputs": [],
   "source": [
    "# scheduler\n",
    "from torch.optim.lr_scheduler import ReduceLROnPlateau\n",
    "scheduler = ReduceLROnPlateau(optimizer, mode='min', factor=0.5, patience=500, verbose=True)"
   ]
  },
  {
   "cell_type": "code",
   "execution_count": null,
   "metadata": {},
   "outputs": [],
   "source": [
    "torch.cuda.empty_cache() "
   ]
  },
  {
   "cell_type": "code",
   "execution_count": null,
   "metadata": {},
   "outputs": [],
   "source": [
    "! rm log_training.log"
   ]
  },
  {
   "cell_type": "code",
   "execution_count": null,
   "metadata": {},
   "outputs": [],
   "source": [
    "import logging\n",
    "logging.basicConfig(filename = 'log_training.log',level = logging.INFO)\n"
   ]
  },
  {
   "cell_type": "code",
   "execution_count": null,
   "metadata": {},
   "outputs": [],
   "source": [
    "epochs = 5\n",
    "counter = 0\n",
    "print_every = 1000\n",
    "clip = .5\n",
    "valid_loss_min = .3\n",
    "val_loss = torch.tensor(np.Inf)\n",
    "model.train()\n",
    "for i in range(epochs):\n",
    "    h = model.init_hidden(train_batch_size)\n",
    "#     outputs_t = torch.empty(0).to(device)\n",
    "#     labels_t = torch.empty(0).to(device)\n",
    "    for indexes, labels in train_loader:\n",
    "#         inputs = torch.stack([torch.load('data_images/1face_X_'+ name + '.pt', map_location = device) for name in X[inputs]])\n",
    "        inputs = []\n",
    "        for v in np.arange(0, train_batch_size):\n",
    "            inputs = inputs + [torch.load('data_images/1face_X_'+ X[indexes[v]] + '.pt', map_location = device)]\n",
    "        inputs = torch.stack(inputs)\n",
    "        counter += 1\n",
    "        h = tuple([e.data for e in h])\n",
    "        inputs, labels = inputs.to(device), labels.to(device)\n",
    "        model.zero_grad()\n",
    "        output, h = model(inputs, h)\n",
    "        loss = train_criterion(output.squeeze(), labels.float())\n",
    "        loss.backward()\n",
    "        nn.utils.clip_grad_norm_(model.parameters(), clip)\n",
    "        optimizer.step()\n",
    "        \n",
    "#         outputs_t = torch.cat((outputs_t, output.squeeze()))\n",
    "#         labels_t = torch.cat((labels_t, labels.squeeze().float()))\n",
    "        if counter % 100 == 0:\n",
    "#             loss = train_criterion(outputs_t, labels_t)\n",
    "#             loss.backward()\n",
    "#             nn.utils.clip_grad_norm_(model.parameters(), clip)\n",
    "#             optimizer.step()\n",
    "            logging.info(\"Epoch: {}/{}...\".format(i+1, epochs) +  \n",
    "                         \"Step: {}...\".format(counter) +\n",
    "                         \"Loss: {:.6f}...\".format(loss.item())) \n",
    "#             outputs_t = torch.empty(0).to(device)\n",
    "#             labels_t = torch.empty(0).to(device)\n",
    "        if counter%print_every == 0:\n",
    "            logging.info(str(counter))\n",
    "            val_h = model.init_hidden(val_batch_size)\n",
    "            val_losses = []\n",
    "            model.eval()\n",
    "            for val_indexes, lab in val_loader:\n",
    "#                 inp = torch.stack([torch.load('data_images/1face_X_'+ name + '.pt', map_location = device) for name in X[inp]])\n",
    "                inp = []\n",
    "                for v in np.arange(0, val_batch_size):\n",
    "                    inp = inp + [torch.load('data_images/1face_X_'+ X[val_indexes[v]] + '.pt', map_location = device)]\n",
    "                inp = torch.stack(inp)\n",
    "                val_h = tuple([each.data for each in val_h])\n",
    "                inp, lab = inp.to(device), lab.to(device)\n",
    "                out, val_h = model(inp, val_h)\n",
    "                val_loss = val_criterion(out.squeeze(), lab.float())\n",
    "                val_losses.append(val_loss.item())\n",
    "                \n",
    "            model.train()\n",
    "            print(\"Epoch: {}/{}...\".format(i+1, epochs),\n",
    "                  \"Step: {}...\".format(counter),\n",
    "                  \"Loss: {:.6f}...\".format(loss.item()),\n",
    "                  \"Val Loss: {:.6f}\".format(np.mean(val_losses)))\n",
    "            logging.info(\"Epoch: {}/{}...\".format(i+1, epochs) +  \n",
    "                         \"Step: {}...\".format(counter) +\n",
    "                         \"Loss: {:.6f}...\".format(loss.item()) +\n",
    "                         \"Val Loss: {:.6f}\".format(np.mean(val_losses)))\n",
    "            if np.mean(val_losses) <= valid_loss_min:\n",
    "                torch.save(model.state_dict(), './model_1face_unfroze.pt')\n",
    "                print('Validation loss decreased ({:.6f} --> {:.6f}).  Saving model ...'.format(valid_loss_min,np.mean(val_losses)))\n",
    "                logging.info('Validation loss decreased ({:.6f} --> {:.6f}).  Saving model ...'.format(valid_loss_min,np.mean(val_losses)))\n",
    "                valid_loss_min = np.mean(val_losses)\n",
    "    scheduler.step(val_loss.item())\n"
   ]
  },
  {
   "cell_type": "markdown",
   "metadata": {},
   "source": [
    "```\n",
    "INFO:root:Epoch: 1/5...Step: 100...Loss: 0.481132...\n",
    "INFO:root:Epoch: 1/5...Step: 200...Loss: 0.163793...\n",
    "INFO:root:Epoch: 1/5...Step: 300...Loss: 0.391551...\n",
    "INFO:root:Epoch: 1/5...Step: 400...Loss: 0.176994...\n",
    "INFO:root:Epoch: 1/5...Step: 500...Loss: 0.286489...\n",
    "INFO:root:Epoch: 1/5...Step: 600...Loss: 0.267409...\n",
    "INFO:root:Epoch: 1/5...Step: 700...Loss: 0.297444...\n",
    "INFO:root:Epoch: 1/5...Step: 800...Loss: 0.086461...\n",
    "INFO:root:Epoch: 1/5...Step: 900...Loss: 0.622738...\n",
    "INFO:root:Epoch: 1/5...Step: 1000...Loss: 0.199401...\n",
    "INFO:root:1000\n",
    "INFO:root:Epoch: 1/5...Step: 1000...Loss: 0.199401...Val Loss: 0.127336\n",
    "INFO:root:Validation loss decreased (0.300000 --> 0.127336).  Saving model ...\n",
    "```"
   ]
  },
  {
   "cell_type": "markdown",
   "metadata": {},
   "source": [
    "# Reference\n",
    "* https://github.com/ronghanghu/pytorch-gve-lrcn/blob/master/models/pretrained_models.py"
   ]
  }
 ],
 "metadata": {
  "kernelspec": {
   "display_name": "Python 3",
   "language": "python",
   "name": "python3"
  },
  "language_info": {
   "codemirror_mode": {
    "name": "ipython",
    "version": 3
   },
   "file_extension": ".py",
   "mimetype": "text/x-python",
   "name": "python",
   "nbconvert_exporter": "python",
   "pygments_lexer": "ipython3",
   "version": "3.6.9"
  }
 },
 "nbformat": 4,
 "nbformat_minor": 2
}
