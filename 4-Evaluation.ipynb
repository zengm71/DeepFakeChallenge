{
 "cells": [
  {
   "cell_type": "markdown",
   "metadata": {},
   "source": [
    "# Load the model"
   ]
  },
  {
   "cell_type": "code",
   "execution_count": 1,
   "metadata": {},
   "outputs": [
    {
     "name": "stdout",
     "output_type": "stream",
     "text": [
      "Running on device: cuda:0\n"
     ]
    }
   ],
   "source": [
    "import os\n",
    "import torch\n",
    "from torch.utils.data import TensorDataset, DataLoader\n",
    "import glob\n",
    "import time\n",
    "import numpy as np\n",
    "import pandas as pd\n",
    "import mmcv, cv2\n",
    "from facenet_pytorch import MTCNN, InceptionResnetV1, extract_face\n",
    "from PIL import Image, ImageDraw, ImageFont, ImageEnhance\n",
    "from IPython import display\n",
    "from tqdm import tqdm\n",
    "from matplotlib import pyplot as plt\n",
    "\n",
    "Image.__version__\n",
    "\n",
    "device = torch.device('cuda:0' if torch.cuda.is_available() else 'cpu')\n",
    "print('Running on device: {}'.format(device))"
   ]
  },
  {
   "cell_type": "code",
   "execution_count": 2,
   "metadata": {},
   "outputs": [],
   "source": [
    "import torch.nn as nn\n",
    "\n",
    "class DFDCNet(nn.Module):\n",
    "    def __init__(self, input_size, output_size, hidden_dim, n_layers, drop_prob=0.5):\n",
    "        super(DFDCNet, self).__init__()\n",
    "        self.output_size = output_size\n",
    "        self.n_layers = n_layers\n",
    "        self.hidden_dim = hidden_dim\n",
    "        \n",
    "        self.lstm = nn.LSTM(input_size, hidden_dim, n_layers, dropout=drop_prob, batch_first=True)\n",
    "        self.dropout = nn.Dropout(0.75)\n",
    "        self.batchnorm = nn.BatchNorm1d(hidden_dim)\n",
    "        self.elu = nn.ELU()\n",
    "        self.fc1 = nn.Linear(hidden_dim, 32)\n",
    "#         self.fc2 = nn.Linear(64, 32)\n",
    "#         self.fc3 = nn.Linear(32, 16)\n",
    "        self.fc4 = nn.Linear(32, output_size)\n",
    "        self.sigmoid = nn.Sigmoid()\n",
    "        \n",
    "    def forward(self, x, hidden):\n",
    "        batch_size = x.size(0)\n",
    "        x = x.float()\n",
    "        \n",
    "        lstm_out, hidden = self.lstm(x, hidden)\n",
    "        lstm_out = lstm_out.contiguous().view(-1, self.hidden_dim)\n",
    "        \n",
    "        out = self.dropout(lstm_out)\n",
    "#         out = self.batchnorm(out)\n",
    "        out = self.fc1(out)\n",
    "        out = self.elu(out)\n",
    "#         out = self.fc2(out)\n",
    "#         out = self.elu(out)\n",
    "#         out = self.fc3(out)\n",
    "#         out = self.elu(out)\n",
    "        out = self.fc4(out)\n",
    "        out = self.sigmoid(out)\n",
    "        \n",
    "        out = out.view(batch_size, -1)\n",
    "        out = out[:,-1]\n",
    "        return out, hidden\n",
    "    \n",
    "    def init_hidden(self, batch_size):\n",
    "        weight = next(self.parameters()).data\n",
    "        hidden = (weight.new(self.n_layers, batch_size, self.hidden_dim).zero_().to(device),\n",
    "                      weight.new(self.n_layers, batch_size, self.hidden_dim).zero_().to(device))\n",
    "        return hidden\n",
    "        return hidden"
   ]
  },
  {
   "cell_type": "code",
   "execution_count": 3,
   "metadata": {},
   "outputs": [
    {
     "data": {
      "text/plain": [
       "<All keys matched successfully>"
      ]
     },
     "execution_count": 3,
     "metadata": {},
     "output_type": "execute_result"
    }
   ],
   "source": [
    "input_size = 512\n",
    "output_size = 1\n",
    "hidden_dim = 64\n",
    "n_layers = 5\n",
    "\n",
    "model = DFDCNet(input_size, output_size, hidden_dim, n_layers)\n",
    "model.to(device)\n",
    "model.load_state_dict(torch.load('model_1face.pt'))"
   ]
  },
  {
   "cell_type": "code",
   "execution_count": 23,
   "metadata": {},
   "outputs": [],
   "source": [
    "from sklearn.metrics import roc_curve, auc, accuracy_score, confusion_matrix, log_loss\n",
    "import seaborn as sns\n",
    "\n",
    "def Find_Optimal_Cutoff(target, predicted):\n",
    "    \"\"\" Find the optimal probability cutoff point for a classification model related to event rate\n",
    "    Parameters\n",
    "    ----------\n",
    "    target : Matrix with dependent or target data, where rows are observations\n",
    "\n",
    "    predicted : Matrix with predicted data, where rows are observations\n",
    "\n",
    "    Returns\n",
    "    -------     \n",
    "    list type, with optimal cutoff value\n",
    "\n",
    "    \"\"\"\n",
    "    fpr, tpr, threshold = roc_curve(target, predicted)\n",
    "    i = np.arange(len(tpr)) \n",
    "    roc = pd.DataFrame({'tf' : pd.Series(tpr-(1-fpr), index=i), 'threshold' : pd.Series(threshold, index=i)})\n",
    "    roc_t = roc.iloc[(roc.tf-0).abs().argsort()[:1]]\n",
    "\n",
    "    return list(roc_t['threshold']) \n",
    "\n",
    "def plot_matrix(target, predicted_binary, name):\n",
    "    matrix = confusion_matrix(target, predicted_binary)\n",
    "    TN, FP, FN, TP = confusion_matrix([0, 1, 0, 1], [1, 1, 1, 0]).ravel()\n",
    "    if (TP + FP > 0) and (TP + FN > 0):\n",
    "        precision = TP / (TP + FP)\n",
    "        recall = TP / (TP + FN)\n",
    "        F =  2 * (precision*recall) / (precision + recall)\n",
    "    else:\n",
    "        F = 0\n",
    "    cm_df = pd.DataFrame(matrix,\n",
    "                         index = ['Positive', 'Nagative'], \n",
    "                         columns = ['Positive', 'Nagative'])\n",
    "    subtitle = 'Precision ' + str(round(precision, 2)) + ' Recall ' + str(round(recall, 2))\n",
    "    fig, ax = plt.subplots(figsize=(8,6))\n",
    "    ax = sns.heatmap(cm_df, annot=True, fmt=\"d\")\n",
    "    bottom, top = ax.get_ylim()\n",
    "    ax.set_ylim(bottom + 0.5, top - 0.5)\n",
    "    plt.title('Confusion Matrix - ' + name + \"\\n\" + subtitle)\n",
    "    plt.ylabel('True label')\n",
    "    plt.xlabel('Predicted label')\n",
    "    plt.show()"
   ]
  },
  {
   "cell_type": "markdown",
   "metadata": {},
   "source": [
    "# 1 Face"
   ]
  },
  {
   "cell_type": "code",
   "execution_count": 7,
   "metadata": {},
   "outputs": [
    {
     "name": "stderr",
     "output_type": "stream",
     "text": [
      "100%|██████████| 50/50 [01:30<00:00,  2.00s/it]\n"
     ]
    }
   ],
   "source": [
    "X = []\n",
    "Y = []\n",
    "for p in tqdm(np.arange(0, 50), total = 50):\n",
    "    X_p = torch.load('data_processed/1face_X_part' + str(p) + '.pt', map_location = device)\n",
    "    Y_p = torch.load('data_processed/1face_Y_part' + str(p) + '.pt', map_location = device)\n",
    "    X = X + X_p\n",
    "    Y = Y + Y_p"
   ]
  },
  {
   "cell_type": "code",
   "execution_count": 8,
   "metadata": {},
   "outputs": [
    {
     "name": "stdout",
     "output_type": "stream",
     "text": [
      "104343\n",
      "104343\n"
     ]
    },
    {
     "data": {
      "text/plain": [
       "torch.Size([104343, 30, 512])"
      ]
     },
     "execution_count": 8,
     "metadata": {},
     "output_type": "execute_result"
    }
   ],
   "source": [
    "print(len(X))\n",
    "\n",
    "print(len(Y))\n",
    "\n",
    "X = torch.stack(X)\n",
    "\n",
    "X.shape"
   ]
  },
  {
   "cell_type": "code",
   "execution_count": 113,
   "metadata": {},
   "outputs": [],
   "source": [
    "predict = []\n",
    "test_loader = DataLoader(TensorDataset(X), shuffle=False, batch_size=1)\n",
    "test_h = model.init_hidden(1)\n",
    "\n",
    "for inp in test_loader:\n",
    "    test_h = tuple([each.data for each in test_h])\n",
    "    inp = inp[0].to(device)\n",
    "    out, test_h = model(inp, test_h)\n",
    "    y = out.squeeze().cpu().data.numpy().item(0)\n",
    "    predict.append(y)"
   ]
  },
  {
   "cell_type": "code",
   "execution_count": 114,
   "metadata": {},
   "outputs": [
    {
     "data": {
      "text/plain": [
       "104343"
      ]
     },
     "execution_count": 114,
     "metadata": {},
     "output_type": "execute_result"
    }
   ],
   "source": [
    "len(predict)"
   ]
  },
  {
   "cell_type": "code",
   "execution_count": 115,
   "metadata": {},
   "outputs": [
    {
     "name": "stdout",
     "output_type": "stream",
     "text": [
      "the optimal threshold is 0.1544969230890274\n"
     ]
    }
   ],
   "source": [
    "threshold = Find_Optimal_Cutoff(Y, predict)\n",
    "print(\"the optimal threshold is \" + str(threshold[0]))\n",
    "predict_b = [1 if p > threshold[0] else 0 for p in predict]"
   ]
  },
  {
   "cell_type": "code",
   "execution_count": 117,
   "metadata": {},
   "outputs": [
    {
     "data": {
      "text/plain": [
       "0.31848684327871846"
      ]
     },
     "execution_count": 117,
     "metadata": {},
     "output_type": "execute_result"
    }
   ],
   "source": [
    "log_loss(Y, predict)"
   ]
  },
  {
   "cell_type": "code",
   "execution_count": 118,
   "metadata": {
    "scrolled": false
   },
   "outputs": [
    {
     "data": {
      "image/png": "[encoded data removed]",
      "text/plain": [
       "<Figure size 576x432 with 2 Axes>"
      ]
     },
     "metadata": {
      "needs_background": "light"
     },
     "output_type": "display_data"
    }
   ],
   "source": [
    "plot_matrix(Y, predict_b, name = '1 Face')"
   ]
  },
  {
   "cell_type": "markdown",
   "metadata": {},
   "source": [
    "# 2 Faces"
   ]
  },
  {
   "cell_type": "code",
   "execution_count": 4,
   "metadata": {},
   "outputs": [
    {
     "name": "stderr",
     "output_type": "stream",
     "text": [
      "100%|██████████| 50/50 [00:26<00:00,  1.86it/s]\n"
     ]
    }
   ],
   "source": [
    "X = []\n",
    "Y = []\n",
    "for p in tqdm(np.arange(0, 50), total = 50):\n",
    "    X_p = torch.load('data_processed/2face_X_part' + str(p) + '.pt', map_location = device)\n",
    "    Y_p = torch.load('data_processed/2face_Y_part' + str(p) + '.pt', map_location = device)\n",
    "    X = X + X_p\n",
    "    Y = Y + Y_p"
   ]
  },
  {
   "cell_type": "code",
   "execution_count": 5,
   "metadata": {},
   "outputs": [
    {
     "name": "stdout",
     "output_type": "stream",
     "text": [
      "8648\n",
      "8648\n"
     ]
    },
    {
     "data": {
      "text/plain": [
       "torch.Size([8648, 60, 512])"
      ]
     },
     "execution_count": 5,
     "metadata": {},
     "output_type": "execute_result"
    }
   ],
   "source": [
    "print(len(X))\n",
    "\n",
    "print(len(Y))\n",
    "\n",
    "X = torch.stack(X)\n",
    "\n",
    "X.shape"
   ]
  },
  {
   "cell_type": "code",
   "execution_count": 19,
   "metadata": {},
   "outputs": [],
   "source": [
    "predict = []\n",
    "test_loader = DataLoader(TensorDataset(X), shuffle=False, batch_size=1)\n",
    "test_h = model.init_hidden(1)"
   ]
  },
  {
   "cell_type": "code",
   "execution_count": 20,
   "metadata": {},
   "outputs": [],
   "source": [
    "for inp in test_loader:\n",
    "    test_h = tuple([each.data for each in test_h])\n",
    "    inp1 = inp[0][0:1, np.arange(1, 60, 2), :].to(device)\n",
    "    out, test_h = model(inp1, test_h)\n",
    "    y1 = out.squeeze().cpu().data.numpy().item(0)\n",
    "    inp2 = inp[0][0:1, np.arange(0, 59, 2), :].to(device)\n",
    "    out, test_h = model(inp2, test_h)\n",
    "    y2 = out.squeeze().cpu().data.numpy().item(0)\n",
    "    y = np.max([y1, y2])\n",
    "#     print((y1,y2,y))\n",
    "    predict.append(y)"
   ]
  },
  {
   "cell_type": "code",
   "execution_count": 21,
   "metadata": {},
   "outputs": [
    {
     "data": {
      "text/plain": [
       "8648"
      ]
     },
     "execution_count": 21,
     "metadata": {},
     "output_type": "execute_result"
    }
   ],
   "source": [
    "len(predict)"
   ]
  },
  {
   "cell_type": "code",
   "execution_count": 24,
   "metadata": {},
   "outputs": [
    {
     "name": "stdout",
     "output_type": "stream",
     "text": [
      "the optimal threshold is 0.20351463556289673\n"
     ]
    }
   ],
   "source": [
    "threshold = Find_Optimal_Cutoff(Y, predict)\n",
    "print(\"the optimal threshold is \" + str(threshold[0]))\n",
    "predict_b = [1 if p > threshold[0] else 0 for p in predict]"
   ]
  },
  {
   "cell_type": "code",
   "execution_count": 25,
   "metadata": {},
   "outputs": [
    {
     "data": {
      "text/plain": [
       "0.5987685955218536"
      ]
     },
     "execution_count": 25,
     "metadata": {},
     "output_type": "execute_result"
    }
   ],
   "source": [
    "log_loss(Y, predict)"
   ]
  },
  {
   "cell_type": "code",
   "execution_count": 27,
   "metadata": {
    "scrolled": false
   },
   "outputs": [
    {
     "data": {
      "image/png": "[encoded data removed]",
      "text/plain": [
       "<Figure size 576x432 with 2 Axes>"
      ]
     },
     "metadata": {
      "needs_background": "light"
     },
     "output_type": "display_data"
    }
   ],
   "source": [
    "plot_matrix(Y, predict_b, name = '2 Face')"
   ]
  },
  {
   "cell_type": "markdown",
   "metadata": {},
   "source": [
    "# 3 Faces"
   ]
  },
  {
   "cell_type": "code",
   "execution_count": 28,
   "metadata": {},
   "outputs": [
    {
     "name": "stderr",
     "output_type": "stream",
     "text": [
      "100%|██████████| 50/50 [00:17<00:00,  3.23it/s]\n"
     ]
    }
   ],
   "source": [
    "X = []\n",
    "Y = []\n",
    "for p in tqdm(np.arange(0, 50), total = 50):\n",
    "    X_p = torch.load('data_processed/3face_X_part' + str(p) + '.pt', map_location = device)\n",
    "    Y_p = torch.load('data_processed/3face_Y_part' + str(p) + '.pt', map_location = device)\n",
    "    X = X + X_p\n",
    "    Y = Y + Y_p"
   ]
  },
  {
   "cell_type": "code",
   "execution_count": 29,
   "metadata": {},
   "outputs": [
    {
     "name": "stdout",
     "output_type": "stream",
     "text": [
      "292\n",
      "292\n"
     ]
    },
    {
     "data": {
      "text/plain": [
       "torch.Size([292, 90, 512])"
      ]
     },
     "execution_count": 29,
     "metadata": {},
     "output_type": "execute_result"
    }
   ],
   "source": [
    "print(len(X))\n",
    "\n",
    "print(len(Y))\n",
    "\n",
    "X = torch.stack(X)\n",
    "\n",
    "X.shape"
   ]
  },
  {
   "cell_type": "code",
   "execution_count": 35,
   "metadata": {},
   "outputs": [],
   "source": [
    "predict = []"
   ]
  },
  {
   "cell_type": "code",
   "execution_count": 30,
   "metadata": {},
   "outputs": [],
   "source": [
    "predict = []\n",
    "test_loader = DataLoader(TensorDataset(X), shuffle=False, batch_size=1)\n",
    "test_h = model.init_hidden(1)"
   ]
  },
  {
   "cell_type": "code",
   "execution_count": 36,
   "metadata": {},
   "outputs": [
    {
     "name": "stdout",
     "output_type": "stream",
     "text": [
      "(0.13426274061203003, 0.003148953663185239, 0.13426274061203003)\n",
      "(0.08115813881158829, 0.021987425163388252, 0.08115813881158829)\n",
      "(0.030494483187794685, 0.006471144035458565, 0.030494483187794685)\n",
      "(0.5278277397155762, 0.0030851804185658693, 0.5278277397155762)\n",
      "(0.2588379979133606, 0.032625339925289154, 0.2588379979133606)\n",
      "(0.13528689742088318, 0.012846563942730427, 0.13528689742088318)\n",
      "(0.043109484016895294, 0.0285347830504179, 0.043109484016895294)\n",
      "(0.20523834228515625, 0.008270831778645515, 0.20523834228515625)\n",
      "(0.17594391107559204, 0.004136002156883478, 0.17594391107559204)\n",
      "(0.01674131117761135, 0.010867494158446789, 0.01674131117761135)\n",
      "(0.14422182738780975, 0.038259927183389664, 0.14422182738780975)\n",
      "(0.03410329297184944, 0.11715896427631378, 0.11715896427631378)\n",
      "(0.17390936613082886, 0.05605607479810715, 0.17390936613082886)\n",
      "(0.06716287136077881, 0.10981151461601257, 0.4277980327606201)\n",
      "(0.08688138425350189, 0.17374388873577118, 0.17374388873577118)\n",
      "(0.29910707473754883, 0.05994294956326485, 0.9347967505455017)\n",
      "(0.21703244745731354, 0.1192450001835823, 0.21703244745731354)\n",
      "(0.06463778764009476, 0.050114765763282776, 0.4131981432437897)\n",
      "(0.1767147034406662, 0.15435416996479034, 0.1767147034406662)\n",
      "(0.04816918447613716, 0.059848301112651825, 0.059848301112651825)\n",
      "(0.13712899386882782, 0.2871210277080536, 0.2871210277080536)\n",
      "(0.09932191669940948, 0.2847876250743866, 0.2847876250743866)\n",
      "(0.0019883126951754093, 0.5927318930625916, 0.5927318930625916)\n",
      "(0.13958364725112915, 0.13286443054676056, 0.6983737945556641)\n",
      "(0.17998497188091278, 0.11284347623586655, 0.17998497188091278)\n",
      "(0.05129879340529442, 0.3431682288646698, 0.3431682288646698)\n",
      "(0.15722769498825073, 0.04239663481712341, 0.15722769498825073)\n",
      "(0.01206047460436821, 0.026189593598246574, 0.35974133014678955)\n",
      "(0.004201152361929417, 0.07836006581783295, 0.07836006581783295)\n",
      "(0.09712071716785431, 0.03673465922474861, 0.09712071716785431)\n",
      "(0.14812956750392914, 0.06349579244852066, 0.17518526315689087)\n",
      "(0.13036970794200897, 0.047622233629226685, 0.13036970794200897)\n",
      "(0.05901766195893288, 0.47088122367858887, 0.47088122367858887)\n",
      "(0.0475548692047596, 0.639143168926239, 0.639143168926239)\n",
      "(0.20949041843414307, 0.09255240857601166, 0.20949041843414307)\n",
      "(0.06714078783988953, 0.23933228850364685, 0.23933228850364685)\n",
      "(0.08230626583099365, 0.24695810675621033, 0.24695810675621033)\n",
      "(0.09841212630271912, 0.10112259536981583, 0.10112259536981583)\n",
      "(0.015347525477409363, 0.0179380401968956, 0.5068751573562622)\n",
      "(0.2624969482421875, 0.04740922152996063, 0.2624969482421875)\n",
      "(0.21267850697040558, 0.1170748621225357, 0.21267850697040558)\n",
      "(0.11992739140987396, 0.05059346556663513, 0.18750819563865662)\n",
      "(0.03805644437670708, 0.5487430095672607, 0.5487430095672607)\n",
      "(0.14191436767578125, 0.2519610822200775, 0.2519610822200775)\n",
      "(0.004801417235285044, 0.028512123972177505, 0.8028343915939331)\n",
      "(0.04444713518023491, 0.39378732442855835, 0.39378732442855835)\n",
      "(0.10868129879236221, 0.08528131991624832, 0.10868129879236221)\n",
      "(0.22959427535533905, 0.07387015223503113, 0.22959427535533905)\n",
      "(0.06792952120304108, 0.14437970519065857, 0.14437970519065857)\n",
      "(0.07911276072263718, 0.06107266992330551, 0.22586509585380554)\n",
      "(0.012974544428288937, 0.09168311208486557, 0.09168311208486557)\n",
      "(0.059694938361644745, 0.5039366483688354, 0.5039366483688354)\n",
      "(0.14125141501426697, 0.12064272165298462, 0.14125141501426697)\n",
      "(0.12648651003837585, 0.10669070482254028, 0.12648651003837585)\n",
      "(0.11761946231126785, 0.15379296243190765, 0.16705526411533356)\n",
      "(0.1005043089389801, 0.013924439437687397, 0.884404182434082)\n",
      "(0.013677854090929031, 0.0864410549402237, 0.0864410549402237)\n",
      "(0.11533782631158829, 0.36494848132133484, 0.36494848132133484)\n",
      "(0.16143496334552765, 0.18647341430187225, 0.18647341430187225)\n",
      "(0.10433141142129898, 0.3492233455181122, 0.3492233455181122)\n",
      "(0.04393065720796585, 0.23839236795902252, 0.23839236795902252)\n",
      "(0.12632834911346436, 0.0864482894539833, 0.20737843215465546)\n",
      "(0.10168849676847458, 0.6073887944221497, 0.6073887944221497)\n",
      "(0.05148182809352875, 0.07298512756824493, 0.07298512756824493)\n",
      "(0.13150793313980103, 0.04371599853038788, 0.13150793313980103)\n",
      "(0.10699093341827393, 0.13811679184436798, 0.13811679184436798)\n",
      "(0.09650097042322159, 0.5409494042396545, 0.5409494042396545)\n",
      "(0.015431064181029797, 0.07648018002510071, 0.579075038433075)\n",
      "(0.010367423295974731, 0.11035162210464478, 0.1579224318265915)\n",
      "(0.04533744603395462, 0.04750176891684532, 0.04750176891684532)\n",
      "(0.034442756325006485, 0.20637734234333038, 0.20637734234333038)\n",
      "(0.137642964720726, 0.04717148840427399, 0.137642964720726)\n",
      "(0.0035485313273966312, 0.08006895333528519, 0.27165424823760986)\n",
      "(0.5333328247070312, 0.08939816057682037, 0.5333328247070312)\n",
      "(0.4155290424823761, 0.25461727380752563, 0.4155290424823761)\n",
      "(0.10179629176855087, 0.05696548521518707, 0.10179629176855087)\n",
      "(0.004491125233471394, 0.2439456582069397, 0.2439456582069397)\n",
      "(0.11589577049016953, 0.13027378916740417, 0.30148541927337646)\n",
      "(0.1690199226140976, 0.11153146624565125, 0.1690199226140976)\n",
      "(0.020704681053757668, 0.061951473355293274, 0.652050256729126)\n",
      "(0.23904556035995483, 0.10781477391719818, 0.2516232132911682)\n",
      "(0.16986709833145142, 0.04915793985128403, 0.16986709833145142)\n",
      "(0.1442357748746872, 0.06456969678401947, 0.48275652527809143)\n",
      "(0.029890116304159164, 0.5531888604164124, 0.5531888604164124)\n",
      "(0.047408271580934525, 0.05863089859485626, 0.09580051153898239)\n",
      "(8.316356252180412e-05, 0.07809237390756607, 0.07809237390756607)\n",
      "(0.008027037605643272, 0.08221177011728287, 0.42147472500801086)\n",
      "(0.12935960292816162, 0.08133094757795334, 0.12935960292816162)\n",
      "(0.08694540709257126, 0.06912408024072647, 0.10084398835897446)\n",
      "(0.05478911101818085, 0.4854380786418915, 0.6117796897888184)\n",
      "(0.003136733314022422, 0.08240044862031937, 0.1808066964149475)\n",
      "(0.14898011088371277, 0.23032338917255402, 0.23032338917255402)\n",
      "(0.13983319699764252, 0.06588064134120941, 0.13983319699764252)\n",
      "(0.004091762006282806, 0.30161911249160767, 0.30161911249160767)\n",
      "(0.04860086739063263, 0.061302315443754196, 0.21039532124996185)\n",
      "(0.15034478902816772, 0.06551426649093628, 0.15034478902816772)\n",
      "(0.00865407194942236, 0.0477231964468956, 0.11572106182575226)\n",
      "(0.04529408738017082, 0.008874495513737202, 0.11322122812271118)\n",
      "(0.10977668315172195, 0.15921269357204437, 0.15921269357204437)\n",
      "(0.10573303699493408, 0.05373239517211914, 0.1811702698469162)\n",
      "(0.09194302558898926, 0.305584579706192, 0.305584579706192)\n",
      "(0.14897184073925018, 0.0833582803606987, 0.14897184073925018)\n",
      "(0.03730195760726929, 0.2469383329153061, 0.2469383329153061)\n",
      "(0.13887876272201538, 0.06833244860172272, 0.13887876272201538)\n",
      "(0.08013433963060379, 0.09010663628578186, 0.09010663628578186)\n",
      "(0.24571724236011505, 0.5441588163375854, 0.5441588163375854)\n",
      "(0.1783791035413742, 0.049873217940330505, 0.1783791035413742)\n",
      "(0.0015982334734871984, 0.05584186688065529, 0.41409093141555786)\n",
      "(0.18827702105045319, 0.0814908817410469, 0.18827702105045319)\n",
      "(0.009097541682422161, 0.02813175693154335, 0.06614622473716736)\n",
      "(0.08231447637081146, 0.06074520945549011, 0.17663413286209106)\n",
      "(0.17508670687675476, 0.0541456900537014, 0.542004406452179)\n",
      "(0.04808085039258003, 0.07720732688903809, 0.42389872670173645)\n",
      "(0.21926066279411316, 0.07792189717292786, 0.21926066279411316)\n",
      "(0.13440769910812378, 0.02178255282342434, 0.13440769910812378)\n",
      "(0.05106106773018837, 0.07478395104408264, 0.09279626607894897)\n",
      "(0.18370480835437775, 0.06664199382066727, 0.7302826046943665)\n",
      "(0.05678979679942131, 0.40392354130744934, 0.40392354130744934)\n",
      "(0.1323537826538086, 0.05277128145098686, 0.1323537826538086)\n",
      "(0.24502645432949066, 0.18516463041305542, 0.24502645432949066)\n",
      "(0.13815315067768097, 0.07392963021993637, 0.13815315067768097)\n",
      "(0.1265522688627243, 0.09140270948410034, 0.1265522688627243)\n",
      "(0.13686606287956238, 0.05349431559443474, 0.13686606287956238)\n",
      "(0.17620861530303955, 0.16227900981903076, 0.17620861530303955)\n",
      "(0.3368867337703705, 0.10228143632411957, 0.3368867337703705)\n",
      "(0.12410130351781845, 0.2410900890827179, 0.2410900890827179)\n",
      "(0.004482082556933165, 0.08884218335151672, 0.5693774819374084)\n",
      "(0.1343204230070114, 0.11441470682621002, 0.6345962285995483)\n",
      "(0.0017495753709226847, 0.40608853101730347, 0.40608853101730347)\n",
      "(0.003945136908441782, 0.023592548444867134, 0.1172528937458992)\n",
      "(0.010219699703156948, 0.011058364994823933, 0.15974868834018707)\n",
      "(0.05753634124994278, 0.6884661912918091, 0.6884661912918091)\n",
      "(0.4375612735748291, 0.25007978081703186, 0.4375612735748291)\n",
      "(0.16793149709701538, 0.4212411046028137, 0.4212411046028137)\n",
      "(0.05210879072546959, 0.18962523341178894, 0.18962523341178894)\n",
      "(0.18065769970417023, 0.3108478784561157, 0.3108478784561157)\n",
      "(0.291049987077713, 0.04308352619409561, 0.4973562955856323)\n",
      "(0.017519362270832062, 0.07368471473455429, 0.07368471473455429)\n",
      "(0.16570860147476196, 0.10384517163038254, 0.16570860147476196)\n",
      "(0.06284769624471664, 0.09235090762376785, 0.09235090762376785)\n",
      "(0.036088090389966965, 0.17363221943378448, 0.17363221943378448)\n",
      "(0.07660213857889175, 0.03095611184835434, 0.07660213857889175)\n",
      "(0.12932245433330536, 0.080138199031353, 0.5984722375869751)\n",
      "(0.04632684960961342, 0.05621710047125816, 0.05621710047125816)\n",
      "(0.7817776799201965, 0.08828523755073547, 0.7817776799201965)\n",
      "(0.04468541964888573, 0.0682157427072525, 0.0682157427072525)\n",
      "(0.029795514419674873, 0.028087444603443146, 0.029795514419674873)\n",
      "(0.22052688896656036, 0.31519848108291626, 0.31519848108291626)\n",
      "(0.5248643159866333, 0.047313399612903595, 0.5248643159866333)\n",
      "(0.04771021753549576, 0.042501192539930344, 0.04771021753549576)\n",
      "(0.03956332057714462, 0.09575508534908295, 0.09575508534908295)\n",
      "(0.15493424236774445, 0.31041648983955383, 0.31041648983955383)\n",
      "(0.16199122369289398, 0.07561691105365753, 0.16199122369289398)\n",
      "(0.4158267676830292, 0.09678209573030472, 0.4158267676830292)\n",
      "(0.1293436884880066, 0.06497552245855331, 0.6689251661300659)\n",
      "(0.04742761328816414, 0.04202339053153992, 0.15794464945793152)\n",
      "(0.06879938393831253, 0.041946157813072205, 0.06879938393831253)\n",
      "(0.01358868833631277, 0.08890049904584885, 0.08890049904584885)\n",
      "(0.18633519113063812, 0.08359015733003616, 0.18633519113063812)\n",
      "(0.09301663190126419, 0.3535199463367462, 0.3535199463367462)\n",
      "(0.03965107351541519, 0.049478817731142044, 0.5237441658973694)\n",
      "(0.05602697655558586, 0.06578881293535233, 0.06578881293535233)\n",
      "(0.0011340356431901455, 0.08054683357477188, 0.10066106915473938)\n",
      "(0.11536644399166107, 0.6137245893478394, 0.6137245893478394)\n",
      "(0.17436493933200836, 0.11847344785928726, 0.5498629212379456)\n",
      "(0.2505453824996948, 0.15260957181453705, 0.2505453824996948)\n",
      "(0.08108805865049362, 0.5696059465408325, 0.5696059465408325)\n",
      "(0.33815568685531616, 0.06407299637794495, 0.650741457939148)\n",
      "(0.02234565280377865, 0.183517187833786, 0.183517187833786)\n",
      "(0.12203516066074371, 0.08641383796930313, 0.12203516066074371)\n",
      "(0.027325715869665146, 0.08025644719600677, 0.08025644719600677)\n",
      "(0.038863953202962875, 0.030334051698446274, 0.09767159819602966)\n",
      "(0.10971128195524216, 0.0315902940928936, 0.10971128195524216)\n",
      "(0.01899002678692341, 0.06468433141708374, 0.06468433141708374)\n",
      "(0.16307726502418518, 0.11523988097906113, 0.16307726502418518)\n",
      "(0.007508917711675167, 0.08632922917604446, 0.08632922917604446)\n",
      "(0.0827307254076004, 0.11311701685190201, 0.153424933552742)\n",
      "(0.32116442918777466, 0.09575702250003815, 0.32116442918777466)\n",
      "(0.0445530079305172, 0.046008266508579254, 0.046008266508579254)\n",
      "(0.001025893958285451, 0.4602786600589752, 0.4602786600589752)\n",
      "(0.12127360701560974, 0.07374965399503708, 0.15171845257282257)\n",
      "(0.16279806196689606, 0.04623986780643463, 0.16279806196689606)\n",
      "(0.12464430928230286, 0.38157710433006287, 0.9231625199317932)\n",
      "(0.05782074108719826, 0.44673997163772583, 0.44673997163772583)\n",
      "(0.14471735060214996, 0.035669054836034775, 0.3237062096595764)\n",
      "(0.12800565361976624, 0.1605459600687027, 0.1605459600687027)\n",
      "(0.1641780436038971, 0.3968510925769806, 0.3968510925769806)\n",
      "(0.0025297824759036303, 0.09059180319309235, 0.09059180319309235)\n",
      "(0.07095975428819656, 0.08591043204069138, 0.5644710063934326)\n",
      "(0.2990206480026245, 0.25781920552253723, 0.2990206480026245)\n",
      "(0.2665570080280304, 0.12279720604419708, 0.2665570080280304)\n",
      "(0.0037846050690859556, 0.2523866593837738, 0.2523866593837738)\n",
      "(0.1822531819343567, 0.06295924633741379, 0.27456581592559814)\n",
      "(0.09578223526477814, 0.044794101268053055, 0.09578223526477814)\n",
      "(0.08187297731637955, 0.051114700734615326, 0.08187297731637955)\n",
      "(0.2876375913619995, 0.25325095653533936, 0.2876375913619995)\n",
      "(0.01195154432207346, 0.04468470811843872, 0.06346368044614792)\n",
      "(0.08530642837285995, 0.052932124584913254, 0.5140877962112427)\n",
      "(0.1464281529188156, 0.09020579606294632, 0.20184388756752014)\n",
      "(0.043822165578603745, 0.07936296612024307, 0.07936296612024307)\n",
      "(0.14452938735485077, 0.11381052434444427, 0.14452938735485077)\n",
      "(0.149664968252182, 0.267650842666626, 0.267650842666626)\n",
      "(0.10960898548364639, 0.05912262946367264, 0.10960898548364639)\n",
      "(0.11928748339414597, 0.17234215140342712, 0.17234215140342712)\n",
      "(0.14453022181987762, 0.11315881460905075, 0.14453022181987762)\n",
      "(0.09611711651086807, 0.19799906015396118, 0.19799906015396118)\n",
      "(0.15788587927818298, 0.4655591547489166, 0.4655591547489166)\n",
      "(0.00011148807243444026, 0.07717863470315933, 0.10566917806863785)\n",
      "(0.13172484934329987, 0.18297916650772095, 0.18297916650772095)\n",
      "(0.1475251168012619, 0.01605413481593132, 0.5135181546211243)\n",
      "(0.06667747348546982, 0.18540377914905548, 0.6522185206413269)\n",
      "(0.12890681624412537, 0.0754525288939476, 0.12890681624412537)\n",
      "(0.6718032956123352, 0.2175857573747635, 0.6718032956123352)\n",
      "(0.4206383526325226, 0.05441216006875038, 0.4206383526325226)\n",
      "(0.1142396554350853, 0.12865854799747467, 0.12865854799747467)\n",
      "(0.10773008316755295, 0.041421275585889816, 0.10773008316755295)\n",
      "(0.1475023776292801, 0.04032959043979645, 0.6697702407836914)\n",
      "(0.10377409309148788, 0.04756481572985649, 0.10377409309148788)\n",
      "(0.05118677020072937, 0.3861502707004547, 0.3861502707004547)\n",
      "(0.15686045587062836, 0.48680612444877625, 0.48680612444877625)\n",
      "(0.12960511445999146, 0.045937277376651764, 0.12960511445999146)\n",
      "(0.12004447728395462, 0.06496486812829971, 0.12004447728395462)\n",
      "(0.02452906034886837, 0.6893199682235718, 0.6893199682235718)\n",
      "(0.022701125591993332, 0.09397988766431808, 0.09397988766431808)\n",
      "(0.07555824518203735, 0.1753092110157013, 0.1753092110157013)\n",
      "(0.018591031432151794, 0.06320323050022125, 0.06320323050022125)\n",
      "(0.38871097564697266, 0.2537810504436493, 0.38871097564697266)\n",
      "(0.06543464213609695, 0.056124478578567505, 0.06543464213609695)\n",
      "(0.29076430201530457, 0.05245191976428032, 0.29076430201530457)\n",
      "(0.03484907001256943, 0.10920780897140503, 0.10920780897140503)\n",
      "(0.06516499817371368, 0.07761144638061523, 0.13098834455013275)\n",
      "(0.013805604539811611, 0.39664211869239807, 0.39664211869239807)\n",
      "(5.323308300830831e-07, 0.060461390763521194, 0.060461390763521194)\n",
      "(0.004902133718132973, 0.04427056759595871, 0.04427056759595871)\n",
      "(0.044721104204654694, 0.04262806475162506, 0.044721104204654694)\n",
      "(0.06709832698106766, 0.04236370697617531, 0.06709832698106766)\n",
      "(0.005159769672900438, 0.012955164536833763, 0.3974226713180542)\n",
      "(0.22719816863536835, 0.5955456495285034, 0.5955456495285034)\n",
      "(0.10625817626714706, 0.034524135291576385, 0.2468731701374054)\n",
      "(0.19066181778907776, 0.10042163729667664, 0.19066181778907776)\n",
      "(0.05212153494358063, 0.05854148045182228, 0.05854148045182228)\n",
      "(0.20565345883369446, 0.052362196147441864, 0.24257679283618927)\n",
      "(0.012572127394378185, 0.04697485640645027, 0.3430410623550415)\n",
      "(0.07008283585309982, 0.054412487894296646, 0.07008283585309982)\n",
      "(0.159325510263443, 0.3655111491680145, 0.3655111491680145)\n",
      "(0.17227233946323395, 0.5496811866760254, 0.5496811866760254)\n",
      "(0.054409947246313095, 0.046048518270254135, 0.40485623478889465)\n",
      "(0.12661807239055634, 0.05107300728559494, 0.12661807239055634)\n",
      "(0.19569562375545502, 0.07338490337133408, 0.3898591101169586)\n",
      "(0.03622209653258324, 0.10561022907495499, 0.11189274489879608)\n",
      "(0.1337486058473587, 0.3444344401359558, 0.3444344401359558)\n",
      "(0.13211782276630402, 0.22560963034629822, 0.22560963034629822)\n",
      "(0.17772671580314636, 0.4189102351665497, 0.4189102351665497)\n",
      "(0.2548345923423767, 0.10596860945224762, 0.2548345923423767)\n",
      "(0.12686270475387573, 0.24068234860897064, 0.24068234860897064)\n",
      "(0.10951545834541321, 0.051468376070261, 0.10951545834541321)\n",
      "(0.1429079920053482, 0.10712499916553497, 0.1429079920053482)\n",
      "(0.13527552783489227, 0.04276915267109871, 0.13527552783489227)\n",
      "(0.10602595657110214, 0.08096164464950562, 0.10602595657110214)\n",
      "(0.004131212830543518, 0.06831949204206467, 0.9897067546844482)\n",
      "(0.2850746214389801, 0.045582517981529236, 0.2850746214389801)\n",
      "(0.1783132702112198, 0.5945760011672974, 0.5945760011672974)\n",
      "(0.05423647537827492, 0.10744762420654297, 0.10744762420654297)\n",
      "(0.14734132587909698, 0.4760802388191223, 0.7077614068984985)\n",
      "(0.169215589761734, 0.08191907405853271, 0.169215589761734)\n",
      "(0.20107093453407288, 0.05521771311759949, 0.24879390001296997)\n",
      "(0.14805060625076294, 0.07949725538492203, 0.14805060625076294)\n",
      "(0.20498953759670258, 0.05715886130928993, 0.46221792697906494)\n",
      "(0.19651596248149872, 0.10046494752168655, 0.19651596248149872)\n",
      "(0.17956964671611786, 0.08185500651597977, 0.17956964671611786)\n",
      "(0.16015855967998505, 0.06164710223674774, 0.16015855967998505)\n",
      "(0.14244908094406128, 0.10878873616456985, 0.14244908094406128)\n",
      "(0.12513206899166107, 0.3846193850040436, 0.4571287930011749)\n",
      "(0.018825944513082504, 0.05554502457380295, 0.06792225688695908)\n",
      "(0.17030730843544006, 0.18954068422317505, 0.18954068422317505)\n",
      "(0.03462675213813782, 0.11283984780311584, 0.11283984780311584)\n",
      "(0.1662760227918625, 0.09271659702062607, 0.21417094767093658)\n",
      "(0.026753665879368782, 0.5759248733520508, 0.5759248733520508)\n",
      "(0.13146018981933594, 0.07850643992424011, 0.13146018981933594)\n",
      "(0.0031591481529176235, 0.32620859146118164, 0.32620859146118164)\n",
      "(0.08368375152349472, 0.04254549741744995, 0.08368375152349472)\n",
      "(0.19089969992637634, 0.10619755834341049, 0.6051216721534729)\n",
      "(0.16377092897891998, 0.14506661891937256, 0.16377092897891998)\n",
      "(0.15134678781032562, 0.039605528116226196, 0.15134678781032562)\n",
      "(0.1452251672744751, 0.06644181162118912, 0.1452251672744751)\n",
      "(0.9960014224052429, 0.2079976350069046, 0.9960014224052429)\n",
      "(0.9915027618408203, 0.2782512903213501, 0.9915027618408203)\n",
      "(0.9991648197174072, 0.25509563088417053, 0.9991648197174072)\n",
      "(0.9658163785934448, 0.1557532548904419, 0.9658163785934448)\n",
      "(0.9918400049209595, 0.35753870010375977, 0.9918400049209595)\n",
      "(0.9648662805557251, 0.23152437806129456, 0.9648662805557251)\n",
      "(0.9947944283485413, 0.5486840605735779, 0.9947944283485413)\n"
     ]
    }
   ],
   "source": [
    "for inp in test_loader:\n",
    "    test_h = tuple([each.data for each in test_h])\n",
    "    inp1 = inp[0][0:1, np.arange(0, 90, 3), :].to(device)\n",
    "    out, test_h = model(inp1, test_h)\n",
    "    y1 = out.squeeze().cpu().data.numpy().item(0)\n",
    "    inp2 = inp[0][0:1, np.arange(1, 90, 3), :].to(device)\n",
    "    out, test_h = model(inp2, test_h)\n",
    "    y2 = out.squeeze().cpu().data.numpy().item(0)\n",
    "    inp3 = inp[0][0:1, np.arange(2, 90, 3), :].to(device)\n",
    "    out, test_h = model(inp3, test_h)\n",
    "    y3 = out.squeeze().cpu().data.numpy().item(0)\n",
    "    y = np.max([y1, y2, y3])\n",
    "    print((y1,y2,y))\n",
    "    predict.append(y)"
   ]
  },
  {
   "cell_type": "code",
   "execution_count": 37,
   "metadata": {},
   "outputs": [
    {
     "data": {
      "text/plain": [
       "292"
      ]
     },
     "execution_count": 37,
     "metadata": {},
     "output_type": "execute_result"
    }
   ],
   "source": [
    "len(predict)"
   ]
  },
  {
   "cell_type": "code",
   "execution_count": 38,
   "metadata": {},
   "outputs": [
    {
     "name": "stdout",
     "output_type": "stream",
     "text": [
      "the optimal threshold is 0.18962523341178894\n"
     ]
    }
   ],
   "source": [
    "threshold = Find_Optimal_Cutoff(Y, predict)\n",
    "print(\"the optimal threshold is \" + str(threshold[0]))\n",
    "predict_b = [1 if p > threshold[0] else 0 for p in predict]"
   ]
  },
  {
   "cell_type": "code",
   "execution_count": 39,
   "metadata": {},
   "outputs": [
    {
     "data": {
      "text/plain": [
       "0.6189406834525721"
      ]
     },
     "execution_count": 39,
     "metadata": {},
     "output_type": "execute_result"
    }
   ],
   "source": [
    "log_loss(Y, predict)"
   ]
  },
  {
   "cell_type": "code",
   "execution_count": 41,
   "metadata": {
    "scrolled": false
   },
   "outputs": [
    {
     "data": {
      "image/png": "[encoded data removed]",
      "text/plain": [
       "<Figure size 576x432 with 2 Axes>"
      ]
     },
     "metadata": {
      "needs_background": "light"
     },
     "output_type": "display_data"
    }
   ],
   "source": [
    "plot_matrix(Y, predict_b, name = '3 Face')"
   ]
  }
 ],
 "metadata": {
  "kernelspec": {
   "display_name": "Python 3",
   "language": "python",
   "name": "python3"
  },
  "language_info": {
   "codemirror_mode": {
    "name": "ipython",
    "version": 3
   },
   "file_extension": ".py",
   "mimetype": "text/x-python",
   "name": "python",
   "nbconvert_exporter": "python",
   "pygments_lexer": "ipython3",
   "version": "3.6.9"
  }
 },
 "nbformat": 4,
 "nbformat_minor": 2
}
