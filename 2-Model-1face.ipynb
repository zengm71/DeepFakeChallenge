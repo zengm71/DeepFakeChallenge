{
 "cells": [
  {
   "cell_type": "code",
   "execution_count": 1,
   "metadata": {},
   "outputs": [
    {
     "data": {
      "text/plain": [
       "<torch._C.Generator at 0x7f171f8c9bf0>"
      ]
     },
     "execution_count": 1,
     "metadata": {},
     "output_type": "execute_result"
    }
   ],
   "source": [
    "import torch\n",
    "import torch.nn as nn\n",
    "import torch.nn.functional as F\n",
    "import torch.optim as optim\n",
    "import numpy as np\n",
    "from tqdm import tqdm\n",
    "torch.manual_seed(1)"
   ]
  },
  {
   "cell_type": "code",
   "execution_count": 2,
   "metadata": {},
   "outputs": [
    {
     "name": "stdout",
     "output_type": "stream",
     "text": [
      "Running on device: cuda:0\n"
     ]
    }
   ],
   "source": [
    "device = torch.device('cuda:0' if torch.cuda.is_available() else 'cpu')\n",
    "print('Running on device: {}'.format(device))"
   ]
  },
  {
   "cell_type": "code",
   "execution_count": 3,
   "metadata": {},
   "outputs": [],
   "source": [
    "torch.cuda.empty_cache() "
   ]
  },
  {
   "cell_type": "markdown",
   "metadata": {},
   "source": [
    "# Create Train and Validation"
   ]
  },
  {
   "cell_type": "code",
   "execution_count": 4,
   "metadata": {},
   "outputs": [
    {
     "name": "stderr",
     "output_type": "stream",
     "text": [
      "100%|██████████| 50/50 [01:24<00:00,  1.92s/it]\n"
     ]
    }
   ],
   "source": [
    "X = []\n",
    "Y = []\n",
    "for p in tqdm(np.arange(0, 50), total = 50):\n",
    "    X_p = torch.load('data_processed/1face_X_part' + str(p) + '.pt', map_location = device)\n",
    "    Y_p = torch.load('data_processed/1face_Y_part' + str(p) + '.pt', map_location = device)\n",
    "    X = X + X_p\n",
    "    Y = Y + Y_p"
   ]
  },
  {
   "cell_type": "code",
   "execution_count": 5,
   "metadata": {},
   "outputs": [
    {
     "data": {
      "text/plain": [
       "104343"
      ]
     },
     "execution_count": 5,
     "metadata": {},
     "output_type": "execute_result"
    }
   ],
   "source": [
    "len(X)"
   ]
  },
  {
   "cell_type": "code",
   "execution_count": 6,
   "metadata": {},
   "outputs": [
    {
     "data": {
      "text/plain": [
       "104343"
      ]
     },
     "execution_count": 6,
     "metadata": {},
     "output_type": "execute_result"
    }
   ],
   "source": [
    "len(Y)"
   ]
  },
  {
   "cell_type": "code",
   "execution_count": 7,
   "metadata": {},
   "outputs": [],
   "source": [
    "X = torch.stack(X)"
   ]
  },
  {
   "cell_type": "code",
   "execution_count": 8,
   "metadata": {},
   "outputs": [
    {
     "data": {
      "text/plain": [
       "torch.Size([104343, 30, 512])"
      ]
     },
     "execution_count": 8,
     "metadata": {},
     "output_type": "execute_result"
    }
   ],
   "source": [
    "X.shape"
   ]
  },
  {
   "cell_type": "code",
   "execution_count": 9,
   "metadata": {},
   "outputs": [],
   "source": [
    "torch.save(X, './data_tomodel/X.pt')\n",
    "torch.save(Y, './data_tomodel/Y.pt')"
   ]
  },
  {
   "cell_type": "code",
   "execution_count": 46,
   "metadata": {},
   "outputs": [],
   "source": [
    "from torch.utils.data import TensorDataset, DataLoader\n",
    "dataset = TensorDataset(X[0:104300], torch.from_numpy(np.array(Y[0:104300])))\n",
    "train_data, val_data = torch.utils.data.random_split(dataset, [100000, 4300])\n",
    "train_batch_size = 1000\n",
    "val_batch_size = 100\n",
    "train_loader = DataLoader(train_data, shuffle=True, batch_size=train_batch_size)\n",
    "val_loader = DataLoader(val_data, shuffle=True, batch_size=val_batch_size)"
   ]
  },
  {
   "cell_type": "markdown",
   "metadata": {},
   "source": [
    "# Create Model"
   ]
  },
  {
   "cell_type": "code",
   "execution_count": 51,
   "metadata": {},
   "outputs": [],
   "source": [
    "import torch.nn as nn\n",
    "\n",
    "class DFDCNet(nn.Module):\n",
    "    def __init__(self, input_size, output_size, hidden_dim, n_layers, drop_prob=0.5):\n",
    "        super(DFDCNet, self).__init__()\n",
    "        self.output_size = output_size\n",
    "        self.n_layers = n_layers\n",
    "        self.hidden_dim = hidden_dim\n",
    "        \n",
    "        self.lstm = nn.LSTM(input_size, hidden_dim, n_layers, dropout=drop_prob, batch_first=True)\n",
    "        self.dropout = nn.Dropout(0.75)\n",
    "        self.batchnorm = nn.BatchNorm1d(hidden_dim)\n",
    "        self.elu = nn.ELU()\n",
    "        self.fc1 = nn.Linear(hidden_dim, 32)\n",
    "#         self.fc2 = nn.Linear(64, 32)\n",
    "#         self.fc3 = nn.Linear(32, 16)\n",
    "        self.fc4 = nn.Linear(32, output_size)\n",
    "        self.sigmoid = nn.Sigmoid()\n",
    "        \n",
    "    def forward(self, x, hidden):\n",
    "        batch_size = x.size(0)\n",
    "        x = x.float()\n",
    "        \n",
    "        lstm_out, hidden = self.lstm(x, hidden)\n",
    "        lstm_out = lstm_out.contiguous().view(-1, self.hidden_dim)\n",
    "        \n",
    "        out = self.dropout(lstm_out)\n",
    "#         out = self.batchnorm(out)\n",
    "        out = self.fc1(out)\n",
    "        out = self.elu(out)\n",
    "#         out = self.fc2(out)\n",
    "#         out = self.elu(out)\n",
    "#         out = self.fc3(out)\n",
    "#         out = self.elu(out)\n",
    "        out = self.fc4(out)\n",
    "        out = self.sigmoid(out)\n",
    "        \n",
    "        out = out.view(batch_size, -1)\n",
    "        out = out[:,-1]\n",
    "        return out, hidden\n",
    "    \n",
    "    def init_hidden(self, batch_size):\n",
    "        weight = next(self.parameters()).data\n",
    "        hidden = (weight.new(self.n_layers, batch_size, self.hidden_dim).zero_().to(device),\n",
    "                      weight.new(self.n_layers, batch_size, self.hidden_dim).zero_().to(device))\n",
    "        return hidden"
   ]
  },
  {
   "cell_type": "code",
   "execution_count": 52,
   "metadata": {},
   "outputs": [
    {
     "name": "stdout",
     "output_type": "stream",
     "text": [
      "DFDCNet(\n",
      "  (lstm): LSTM(512, 64, num_layers=5, batch_first=True, dropout=0.5)\n",
      "  (dropout): Dropout(p=0.75, inplace=False)\n",
      "  (batchnorm): BatchNorm1d(64, eps=1e-05, momentum=0.1, affine=True, track_running_stats=True)\n",
      "  (elu): ELU(alpha=1.0)\n",
      "  (fc1): Linear(in_features=64, out_features=32, bias=True)\n",
      "  (fc4): Linear(in_features=32, out_features=1, bias=True)\n",
      "  (sigmoid): Sigmoid()\n",
      ")\n"
     ]
    }
   ],
   "source": [
    "input_size = 512\n",
    "output_size = 1\n",
    "hidden_dim = 64\n",
    "n_layers = 5\n",
    "\n",
    "model = DFDCNet(input_size, output_size, hidden_dim, n_layers)\n",
    "model.to(device)\n",
    "train_criterion = nn.BCELoss()\n",
    "val_criterion = nn.BCELoss()\n",
    "\n",
    "optimizer = torch.optim.Adam(model.parameters(), lr=0.001)\n",
    "print(model)"
   ]
  },
  {
   "cell_type": "code",
   "execution_count": 53,
   "metadata": {},
   "outputs": [],
   "source": [
    "# scheduler\n",
    "from torch.optim.lr_scheduler import ReduceLROnPlateau\n",
    "scheduler = ReduceLROnPlateau(optimizer, mode='min', factor=0.5, patience=500, verbose=True)\n"
   ]
  },
  {
   "cell_type": "code",
   "execution_count": null,
   "metadata": {
    "scrolled": false
   },
   "outputs": [
    {
     "name": "stdout",
     "output_type": "stream",
     "text": [
      "Epoch: 10/10000... Step: 1000... Loss: 0.531787... Val Loss: 0.431874\n",
      "Validation loss decreased (inf --> 0.431874).  Saving model ...\n",
      "Epoch: 20/10000... Step: 2000... Loss: 0.472329... Val Loss: 0.431393\n",
      "Validation loss decreased (0.431874 --> 0.431393).  Saving model ...\n",
      "Epoch: 30/10000... Step: 3000... Loss: 0.449641... Val Loss: 0.431291\n",
      "Validation loss decreased (0.431393 --> 0.431291).  Saving model ...\n",
      "Epoch: 40/10000... Step: 4000... Loss: 0.437786... Val Loss: 0.430938\n",
      "Validation loss decreased (0.431291 --> 0.430938).  Saving model ...\n",
      "Epoch: 50/10000... Step: 5000... Loss: 0.443349... Val Loss: 0.431201\n",
      "Epoch: 60/10000... Step: 6000... Loss: 0.466028... Val Loss: 0.430974\n",
      "Epoch: 70/10000... Step: 7000... Loss: 0.462511... Val Loss: 0.430990\n",
      "Epoch: 80/10000... Step: 8000... Loss: 0.465358... Val Loss: 0.431100\n",
      "Epoch: 90/10000... Step: 9000... Loss: 0.467207... Val Loss: 0.431350\n",
      "Epoch: 100/10000... Step: 10000... Loss: 0.455970... Val Loss: 0.431349\n",
      "Epoch: 110/10000... Step: 11000... Loss: 0.457632... Val Loss: 0.431261\n",
      "Epoch: 120/10000... Step: 12000... Loss: 0.454191... Val Loss: 0.431336\n",
      "Epoch: 130/10000... Step: 13000... Loss: 0.457278... Val Loss: 0.431589\n",
      "Epoch: 140/10000... Step: 14000... Loss: 0.441668... Val Loss: 0.431142\n",
      "Epoch: 150/10000... Step: 15000... Loss: 0.452922... Val Loss: 0.431018\n",
      "Epoch: 160/10000... Step: 16000... Loss: 0.501180... Val Loss: 0.430780\n",
      "Validation loss decreased (0.430938 --> 0.430780).  Saving model ...\n",
      "Epoch: 170/10000... Step: 17000... Loss: 0.452665... Val Loss: 0.431126\n",
      "Epoch: 180/10000... Step: 18000... Loss: 0.435249... Val Loss: 0.431215\n",
      "Epoch: 190/10000... Step: 19000... Loss: 0.435412... Val Loss: 0.431546\n",
      "Epoch: 200/10000... Step: 20000... Loss: 0.455950... Val Loss: 0.431593\n",
      "Epoch: 210/10000... Step: 21000... Loss: 0.490311... Val Loss: 0.430924\n",
      "Epoch: 220/10000... Step: 22000... Loss: 0.465992... Val Loss: 0.431115\n",
      "Epoch: 230/10000... Step: 23000... Loss: 0.436535... Val Loss: 0.430913\n",
      "Epoch: 240/10000... Step: 24000... Loss: 0.492195... Val Loss: 0.431761\n",
      "Epoch: 250/10000... Step: 25000... Loss: 0.426555... Val Loss: 0.425136\n",
      "Validation loss decreased (0.430780 --> 0.425136).  Saving model ...\n",
      "Epoch: 260/10000... Step: 26000... Loss: 0.412694... Val Loss: 0.407532\n",
      "Validation loss decreased (0.425136 --> 0.407532).  Saving model ...\n",
      "Epoch: 270/10000... Step: 27000... Loss: 0.394946... Val Loss: 0.401915\n",
      "Validation loss decreased (0.407532 --> 0.401915).  Saving model ...\n",
      "Epoch: 280/10000... Step: 28000... Loss: 0.395257... Val Loss: 0.391669\n",
      "Validation loss decreased (0.401915 --> 0.391669).  Saving model ...\n",
      "Epoch: 290/10000... Step: 29000... Loss: 0.387796... Val Loss: 0.381405\n",
      "Validation loss decreased (0.391669 --> 0.381405).  Saving model ...\n",
      "Epoch: 300/10000... Step: 30000... Loss: 0.394108... Val Loss: 0.379386\n",
      "Validation loss decreased (0.381405 --> 0.379386).  Saving model ...\n",
      "Epoch: 310/10000... Step: 31000... Loss: 0.394702... Val Loss: 0.369911\n",
      "Validation loss decreased (0.379386 --> 0.369911).  Saving model ...\n",
      "Epoch: 320/10000... Step: 32000... Loss: 0.366856... Val Loss: 0.364915\n",
      "Validation loss decreased (0.369911 --> 0.364915).  Saving model ...\n",
      "Epoch: 330/10000... Step: 33000... Loss: 0.368662... Val Loss: 0.363449\n",
      "Validation loss decreased (0.364915 --> 0.363449).  Saving model ...\n",
      "Epoch: 340/10000... Step: 34000... Loss: 0.348882... Val Loss: 0.356082\n",
      "Validation loss decreased (0.363449 --> 0.356082).  Saving model ...\n",
      "Epoch: 350/10000... Step: 35000... Loss: 0.353864... Val Loss: 0.353985\n",
      "Validation loss decreased (0.356082 --> 0.353985).  Saving model ...\n",
      "Epoch: 360/10000... Step: 36000... Loss: 0.331982... Val Loss: 0.354707\n",
      "Epoch: 370/10000... Step: 37000... Loss: 0.307452... Val Loss: 0.340589\n",
      "Validation loss decreased (0.353985 --> 0.340589).  Saving model ...\n",
      "Epoch: 380/10000... Step: 38000... Loss: 0.306288... Val Loss: 0.336129\n",
      "Validation loss decreased (0.340589 --> 0.336129).  Saving model ...\n",
      "Epoch: 390/10000... Step: 39000... Loss: 0.318658... Val Loss: 0.338284\n",
      "Epoch: 400/10000... Step: 40000... Loss: 0.313316... Val Loss: 0.334955\n",
      "Validation loss decreased (0.336129 --> 0.334955).  Saving model ...\n",
      "Epoch: 410/10000... Step: 41000... Loss: 0.335133... Val Loss: 0.334931\n",
      "Validation loss decreased (0.334955 --> 0.334931).  Saving model ...\n",
      "Epoch: 420/10000... Step: 42000... Loss: 0.270853... Val Loss: 0.332716\n",
      "Validation loss decreased (0.334931 --> 0.332716).  Saving model ...\n",
      "Epoch: 430/10000... Step: 43000... Loss: 0.284182... Val Loss: 0.333650\n",
      "Epoch: 440/10000... Step: 44000... Loss: 0.287038... Val Loss: 0.338938\n",
      "Epoch: 450/10000... Step: 45000... Loss: 0.270831... Val Loss: 0.333599\n",
      "Epoch: 460/10000... Step: 46000... Loss: 0.262602... Val Loss: 0.338987\n",
      "Epoch: 470/10000... Step: 47000... Loss: 0.293131... Val Loss: 0.331634\n",
      "Validation loss decreased (0.332716 --> 0.331634).  Saving model ...\n",
      "Epoch: 480/10000... Step: 48000... Loss: 0.301701... Val Loss: 0.324947\n",
      "Validation loss decreased (0.331634 --> 0.324947).  Saving model ...\n",
      "Epoch: 490/10000... Step: 49000... Loss: 0.252277... Val Loss: 0.332261\n",
      "Epoch: 500/10000... Step: 50000... Loss: 0.272591... Val Loss: 0.322272\n",
      "Validation loss decreased (0.324947 --> 0.322272).  Saving model ...\n"
     ]
    }
   ],
   "source": [
    "epochs = 10000\n",
    "counter = 0\n",
    "print_every = 1000\n",
    "clip = .5\n",
    "valid_loss_min = np.Inf\n",
    "val_loss = torch.tensor(np.Inf)\n",
    "model.train()\n",
    "for i in range(epochs):\n",
    "    h = model.init_hidden(train_batch_size)\n",
    "    \n",
    "    for inputs, labels in train_loader:\n",
    "        counter += 1\n",
    "        h = tuple([e.data for e in h])\n",
    "        inputs, labels = inputs.to(device), labels.to(device)\n",
    "        model.zero_grad()\n",
    "        output, h = model(inputs, h)\n",
    "        loss = train_criterion(output.squeeze(), labels.float())\n",
    "        loss.backward()\n",
    "        nn.utils.clip_grad_norm_(model.parameters(), clip)\n",
    "        optimizer.step()\n",
    "        \n",
    "        if counter%print_every == 0:\n",
    "            val_h = model.init_hidden(val_batch_size)\n",
    "            val_losses = []\n",
    "            model.eval()\n",
    "            for inp, lab in val_loader:\n",
    "                val_h = tuple([each.data for each in val_h])\n",
    "                inp, lab = inp.to(device), lab.to(device)\n",
    "                out, val_h = model(inp, val_h)\n",
    "                val_loss = val_criterion(out.squeeze(), lab.float())\n",
    "                val_losses.append(val_loss.item())\n",
    "                \n",
    "            model.train()\n",
    "            print(\"Epoch: {}/{}...\".format(i+1, epochs),\n",
    "                  \"Step: {}...\".format(counter),\n",
    "                  \"Loss: {:.6f}...\".format(loss.item()),\n",
    "                  \"Val Loss: {:.6f}\".format(np.mean(val_losses)))\n",
    "            if np.mean(val_losses) <= valid_loss_min:\n",
    "                torch.save(model.state_dict(), './model_1face.pt')\n",
    "                print('Validation loss decreased ({:.6f} --> {:.6f}).  Saving model ...'.format(valid_loss_min,np.mean(val_losses)))\n",
    "                valid_loss_min = np.mean(val_losses)\n",
    "    scheduler.step(val_loss.item())\n"
   ]
  },
  {
   "cell_type": "markdown",
   "metadata": {},
   "source": [
    "# Reference\n",
    "* https://github.com/gabrielloye/LSTM_Sentiment-Analysis/blob/master/main.ipynb"
   ]
  },
  {
   "cell_type": "code",
   "execution_count": null,
   "metadata": {},
   "outputs": [],
   "source": []
  }
 ],
 "metadata": {
  "kernelspec": {
   "display_name": "Python 3",
   "language": "python",
   "name": "python3"
  },
  "language_info": {
   "codemirror_mode": {
    "name": "ipython",
    "version": 3
   },
   "file_extension": ".py",
   "mimetype": "text/x-python",
   "name": "python",
   "nbconvert_exporter": "python",
   "pygments_lexer": "ipython3",
   "version": "3.6.9"
  }
 },
 "nbformat": 4,
 "nbformat_minor": 2
}
